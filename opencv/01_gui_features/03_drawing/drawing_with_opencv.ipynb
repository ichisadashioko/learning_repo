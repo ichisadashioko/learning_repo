{
	"cells": [
		{
			"cell_type": "markdown",
			"metadata": {},
			"source": [
				"# Drawing Functions in OpenCV"
			]
		},
		{
			"cell_type": "markdown",
			"metadata": {},
			"source": [
				"## Goal\n",
				"\n",
				"- Learn to draw different geometric shapes with OpenCV\n",
				"- You will learn these functions: `cv2.line()`, `cv2.circle()`, `cv2.rectangle()`, `cv2.ellipse()`, `cv2.putText()`, etc."
			]
		},
		{
			"cell_type": "markdown",
			"metadata": {},
			"source": [
				"## Code\n",
				"\n",
				"In all the above functions, you will see some common arguments as given below:\n",
				"\n",
				"- img: The image where you want to draw the shapes\n",
				"- color: Color of the shape, for BGR, pass it as a tuple, eg: `(255, 0, 0)` for blue. For grayscale, just pass the scalar value.\n",
				"- thickness: Thickness of the line or circle, etc. If `-1` is passed for closed figures like circles, it will fill the shape. `default thickness = 1`\n",
				"- lineType: Type of line, whether 8-connected, anti-aliased line etc. *By default, it is 8-connected*. `cv2.LINE_AA` gives anti-aliased line which looks great for curves.\n",
				"\n",
				"### Drawing Line\n",
				"\n",
				"To draw a line, you need to pass starting and ending coordinates of the line. We will create a black image and draw a blue line on it from top-left to bottom-right corners."
			]
		},
		{
			"cell_type": "code",
			"execution_count": 1,
			"metadata": {},
			"outputs": [],
			"source": [
				"import numpy as np\n",
				"import cv2\n",
				"import matplotlib.pyplot as plt"
			]
		},
		{
			"cell_type": "code",
			"execution_count": 2,
			"metadata": {},
			"outputs": [
				{
					"data": {
						"text/plain": [
							"<matplotlib.image.AxesImage at 0x20647b848d0>"
						]
					},
					"execution_count": 2,
					"metadata": {},
					"output_type": "execute_result"
				},
				{
					"data": {
						"image/png": "[encoded data removed]",
						"text/plain": [
							"<Figure size 432x288 with 1 Axes>"
						]
					},
					"metadata": {
						"needs_background": "light"
					},
					"output_type": "display_data"
				}
			],
			"source": [
				"# Create a black image\n",
				"img = np.zeros((512, 512, 3), np.uint8)\n",
				"\n",
				"# Draw a diagonal blue line with thickness of 5 px\n",
				"cv2.line(img, (0, 0), (510, 128), (0, 255, 0), 3)\n",
				"plt.imshow(img)"
			]
		},
		{
			"cell_type": "markdown",
			"metadata": {},
			"source": [
				"### Drawing Rectangle\n",
				"\n",
				"To draw a rectangle, you need top-left corner and bottom-right corner of rectangle. This time we will draw a green rectangle at top-right corner of image."
			]
		},
		{
			"cell_type": "code",
			"execution_count": 3,
			"metadata": {},
			"outputs": [
				{
					"data": {
						"text/plain": [
							"<matplotlib.image.AxesImage at 0x20647c229b0>"
						]
					},
					"execution_count": 3,
					"metadata": {},
					"output_type": "execute_result"
				},
				{
					"data": {
						"image/png": "[encoded data removed]",
						"text/plain": [
							"<Figure size 432x288 with 1 Axes>"
						]
					},
					"metadata": {
						"needs_background": "light"
					},
					"output_type": "display_data"
				}
			],
			"source": [
				"cv2.rectangle(img, (384, 0), (510, 128), (255, 0, 0), 3)\n",
				"plt.imshow(img)"
			]
		},
		{
			"cell_type": "markdown",
			"metadata": {},
			"source": [
				"### Drawing Ellipse\n",
				"\n",
				"To draw the ellipse, we need to pass several arguments. One argument is the center location (x, y). Next argument is axes lengths (major axis length, minor axis length). `angle` is the angle of rotation of ellipse in anti-clockwise direction. `startAngle` and `endAngle` denotes the starting and ending of ellipse arc measured in clockwise direction from major axis. For example: giving values 0 and 360 gives the full ellipse. For more details, check the documentation of `cv2.ellipse()`. Below example draws a half ellipse at the center of the image."
			]
		},
		{
			"cell_type": "code",
			"execution_count": 4,
			"metadata": {},
			"outputs": [
				{
					"data": {
						"text/plain": [
							"<matplotlib.image.AxesImage at 0x206480d1940>"
						]
					},
					"execution_count": 4,
					"metadata": {},
					"output_type": "execute_result"
				},
				{
					"data": {
						"image/png": "[encoded data removed]",
						"text/plain": [
							"<Figure size 432x288 with 1 Axes>"
						]
					},
					"metadata": {
						"needs_background": "light"
					},
					"output_type": "display_data"
				}
			],
			"source": [
				"cv2.ellipse(img=img, center=(256, 256), axes=(100, 50), angle=0, startAngle=0, endAngle=180, color=(0, 0, 255), thickness=-1)\n",
				"plt.imshow(img)"
			]
		},
		{
			"cell_type": "markdown",
			"metadata": {},
			"source": [
				"### Drawing Polygon\n",
				"\n",
				"To draw a polygon, first you need coordinates of vertices. Make those points into an array of shape `ROWSx1x2` where `ROWS` are number of vertices and it should be of type `int32`. Here we draw a small polygon of four vertices in yellow color."
			]
		},
		{
			"cell_type": "code",
			"execution_count": 5,
			"metadata": {},
			"outputs": [
				{
					"data": {
						"text/plain": [
							"<matplotlib.image.AxesImage at 0x2064818a278>"
						]
					},
					"execution_count": 5,
					"metadata": {},
					"output_type": "execute_result"
				},
				{
					"data": {
						"image/png": "[encoded data removed]",
						"text/plain": [
							"<Figure size 432x288 with 1 Axes>"
						]
					},
					"metadata": {
						"needs_background": "light"
					},
					"output_type": "display_data"
				}
			],
			"source": [
				"pts = np.array([[10, 5], [20, 100], [180, 167], [50, 200]], np.int32)\n",
				"pts = pts.reshape((-1, 1, 2))\n",
				"cv2.polylines(img, [pts], True, (0, 255, 255), thickness=5)\n",
				"plt.imshow(img)"
			]
		},
		{
			"cell_type": "markdown",
			"metadata": {},
			"source": [
				"**Note**\n",
				"\n",
				"If third argument is `False`, you will get a polylines joining all the points, not a closed shape.\n",
				"\n",
				"`cv2.polylines()` can be used to draw multiple lines. Just create a list of all the lines you want to draw and pass it to the function. All lines will be drawn individually. It is a much better and faster way to draw a group of lines than calling cv2.lines() for each line."
			]
		},
		{
			"cell_type": "markdown",
			"metadata": {},
			"source": [
				"### Adding Text to Images\n",
				"\n",
				"To put texts in images, you need specify following things.\n",
				"\n",
				"- Text data that you want to write\n",
				"- Position coordinates of where you want to put it (i.e. bottom-left corner where data starts).\n",
				"- Font Scale (specifies the size of font)\n",
				"- regular things like color, thickness, lineType, etc. For better look, `lineType=cv2.LINE_AA` is recommended.\n",
				"\n",
				"We will write *OpenCV* on our image in white color."
			]
		},
		{
			"cell_type": "code",
			"execution_count": 6,
			"metadata": {},
			"outputs": [
				{
					"data": {
						"text/plain": [
							"<matplotlib.image.AxesImage at 0x20648001cc0>"
						]
					},
					"execution_count": 6,
					"metadata": {},
					"output_type": "execute_result"
				},
				{
					"data": {
						"image/png": "[encoded data removed]",
						"text/plain": [
							"<Figure size 432x288 with 1 Axes>"
						]
					},
					"metadata": {
						"needs_background": "light"
					},
					"output_type": "display_data"
				}
			],
			"source": [
				"font = cv2.FONT_HERSHEY_SIMPLEX\n",
				"cv2.putText(img=img, text='OpenCV', org=(10, 500), fontFace=font, fontScale=4, color=(255, 255, 255), lineType=cv2.LINE_AA)\n",
				"plt.imshow(img)"
			]
		}
	],
	"metadata": {
		"kernelspec": {
			"display_name": "Python 3",
			"language": "python",
			"name": "python3"
		},
		"language_info": {
			"codemirror_mode": {
				"name": "ipython",
				"version": 3
			},
			"file_extension": ".py",
			"mimetype": "text/x-python",
			"name": "python",
			"nbconvert_exporter": "python",
			"pygments_lexer": "ipython3"
		}
	},
	"nbformat": 4,
	"nbformat_minor": 2
}
