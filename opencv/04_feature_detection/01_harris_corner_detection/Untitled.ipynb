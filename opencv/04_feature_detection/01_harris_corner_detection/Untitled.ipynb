{
	"cells": [
		{
			"cell_type": "markdown",
			"metadata": {},
			"source": [
				"# Harris Corner Detection"
			]
		},
		{
			"cell_type": "markdown",
			"metadata": {},
			"source": [
				"## Goal\n",
				"\n",
				"In this chapter,\n",
				"\n",
				"    - We will understand the concepts behind Harris Corner Detection.\n",
				"    - We will see the functions: `cv2.cornerHarris()`, `cv2.cornerSubPix()`"
			]
		},
		{
			"cell_type": "markdown",
			"metadata": {},
			"source": [
				"## Theory\n",
				"\n",
				"In last chapter, we saw that corners are regions in the image with large variation in intensity in all the directions. One early attempt to find these corners was done by **Chris Harris** and **Mike Stephens** in their paper *A Combined Corner and Edge Detector* in 1988, so now it is called Harris Corner Detector. He took this simple idea to a mathematical form. It basically finds the difference in intensity for a displacement of (u, v) in all directions. This is expressed as below:\n",
				"\n",
				"```\n",
				"E(u, v) = SUM( w(x, y) * [ I(x + u, y + v) - I(x, y)]^2) for all (x, y) in ?\n",
				"```\n",
				"\n",
				"- `I(x + u, y + v)` - shifted intensity"
			]
		}
	],
	"metadata": {
		"kernelspec": {
			"display_name": "Python 3",
			"language": "python",
			"name": "python3"
		},
		"language_info": {
			"codemirror_mode": {
				"name": "ipython",
				"version": 3
			},
			"file_extension": ".py",
			"mimetype": "text/x-python",
			"name": "python",
			"nbconvert_exporter": "python",
			"pygments_lexer": "ipython3"
		}
	},
	"nbformat": 4,
	"nbformat_minor": 2
}
