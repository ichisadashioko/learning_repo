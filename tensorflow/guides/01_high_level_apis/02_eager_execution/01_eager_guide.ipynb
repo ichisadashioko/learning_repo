{
	"cells": [
		{
			"cell_type": "markdown",
			"metadata": {},
			"source": [
				"# Eager Execution\n",
				"\n",
				"- TensorFlow's eager execution is an imperative programming environment that evaluates operations immediately, without building graphs: operations return concrete values instead of constructing a computational graph to run later. This makes it easy to get started with TensorFlow and debug models, and it reduces boilerplate as well. To follow along with this guide, run the code samples below in an interactive `python` interpreter.\n",
				"\n",
				"- Eager execution is a flexible machine learning platform for research and exprerimentation, providing:\n",
				"    - *An intuitive interface* - Structure your code naturally and use Python data structures. Quickly iterate on small models and small data.\n",
				"    - *Easier debugging* - Call ops directly to inspect running models and test changes. Use standard Pyton debugging tools for immediate error reporting.\n",
				"    - *Natural control flow* - Use Python control flow instead of graph control flow, simplifying the specifaction of dynamic models\n",
				"    \n",
				"- Eager execution supports most TensorFlow operations and GPU acceleration. For a collection of examples running in eager execution, see: [tensorflow/contrib/eager/python/examples](https://github.com/tensorflow/tensorflow/tree/master/tensorflow/contrib/eager/python/examples)\n",
				"\n",
				"- **Note**: Some models may experience increased overhead with eager execution enabled. Performance improvements are ongoing, but please [file a bug](https://github.com/tensorflow/tensorflow/issues) if you find a problem and share your benchmarks"
			]
		},
		{
			"cell_type": "markdown",
			"metadata": {},
			"source": [
				"## Setup and basic usage\n",
				"\n",
				"- To start eager execution, add `tf.enable_eager_execution()` to the beginning of the program or console session. Do not add this operation to other modules that the program calls."
			]
		},
		{
			"cell_type": "code",
			"execution_count": 1,
			"metadata": {},
			"outputs": [],
			"source": [
				"from __future__ import absolute_import, division, print_function\n",
				"\n",
				"import tensorflow as tf\n",
				"\n",
				"tf.enable_eager_execution()"
			]
		},
		{
			"cell_type": "markdown",
			"metadata": {},
			"source": [
				"- Now you can run TensorFlow operations and the results will return immediately:"
			]
		},
		{
			"cell_type": "code",
			"execution_count": 2,
			"metadata": {},
			"outputs": [
				{
					"data": {
						"text/plain": [
							"True"
						]
					},
					"execution_count": 2,
					"metadata": {},
					"output_type": "execute_result"
				}
			],
			"source": [
				"tf.executing_eagerly()"
			]
		},
		{
			"cell_type": "code",
			"execution_count": 3,
			"metadata": {},
			"outputs": [
				{
					"name": "stdout",
					"output_type": "stream",
					"text": [
						"hello, [[4.]]\n"
					]
				}
			],
			"source": [
				"x = [[2.]]\n",
				"m = tf.matmul(x, x)\n",
				"print(\"hello, {}\".format(m))"
			]
		},
		{
			"cell_type": "markdown",
			"metadata": {},
			"source": [
				"- Enabling eager execution changes how TensorFlow operations behave - now they immediately evaluate and return their values to Python. `tf.Tensor` objects reference concrete values instead of symbolic handles to nodes in a computational graph. Since there isn't a computational graph to build and run later in a session, it's easy to inspect results using `print()` or a debugger. Evaluating, printing, and checking tensor values does not break the flow for computing gradients.\n",
				"\n",
				"- Eager execution works nicely with `numpy`. NumPy operation accept `tf.Tensor` arguments. TensorFlow [math operations](https://www.tensorflow.org/api_guides/python/math_ops) convert Python objects and NumPy arrys to `tf.Tensor` objects. The `tf.Tensor.numpy` method returns the object's value as a NumPy `ndarray`."
			]
		},
		{
			"cell_type": "code",
			"execution_count": 4,
			"metadata": {},
			"outputs": [
				{
					"name": "stdout",
					"output_type": "stream",
					"text": [
						"tf.Tensor(\n",
						"[[1 2]\n",
						" [3 4]], shape=(2, 2), dtype=int32)\n"
					]
				}
			],
			"source": [
				"a = tf.constant([[1, 2],\n",
				"                [3, 4]])\n",
				"print(a)"
			]
		},
		{
			"cell_type": "code",
			"execution_count": 5,
			"metadata": {},
			"outputs": [
				{
					"name": "stdout",
					"output_type": "stream",
					"text": [
						"tf.Tensor(\n",
						"[[2 3]\n",
						" [4 5]], shape=(2, 2), dtype=int32)\n"
					]
				}
			],
			"source": [
				"# Broadcasting support\n",
				"b = tf.add(a, 1)\n",
				"print(b)"
			]
		},
		{
			"cell_type": "code",
			"execution_count": 6,
			"metadata": {},
			"outputs": [
				{
					"name": "stdout",
					"output_type": "stream",
					"text": [
						"tf.Tensor(\n",
						"[[ 2  6]\n",
						" [12 20]], shape=(2, 2), dtype=int32)\n"
					]
				}
			],
			"source": [
				"# Operator overloading is supported\n",
				"print(a * b)"
			]
		},
		{
			"cell_type": "code",
			"execution_count": 7,
			"metadata": {},
			"outputs": [
				{
					"name": "stdout",
					"output_type": "stream",
					"text": [
						"[[ 2  6]\n",
						" [12 20]]\n"
					]
				}
			],
			"source": [
				"# Use NumPy values\n",
				"import numpy as np\n",
				"\n",
				"c = np.multiply(a, b)\n",
				"print(c)"
			]
		},
		{
			"cell_type": "code",
			"execution_count": 8,
			"metadata": {},
			"outputs": [
				{
					"name": "stdout",
					"output_type": "stream",
					"text": [
						"[[1 2]\n",
						" [3 4]]\n"
					]
				}
			],
			"source": [
				"# Obtain numpy value from a tensor\n",
				"print(a.numpy())"
			]
		},
		{
			"cell_type": "markdown",
			"metadata": {},
			"source": [
				"- The `tf.contrib.eager` module contains symbols available to both eager and graph execution environments and is useful for writing code to [work with graphs](https://www.tensorflow.org/guide/eager#work_with_graphs):"
			]
		},
		{
			"cell_type": "code",
			"execution_count": 9,
			"metadata": {},
			"outputs": [],
			"source": [
				"tfe = tf.contrib.eager"
			]
		},
		{
			"cell_type": "markdown",
			"metadata": {},
			"source": [
				"## Dynamic control flow\n",
				"\n",
				"- A major benefit of eager execution is that all the functionality of the host language is available while your model is executing. So, for example, it is easy to write [fizzbuzz](https://en.wikipedia.org/wiki/Fizz_buzz):"
			]
		},
		{
			"cell_type": "code",
			"execution_count": 10,
			"metadata": {},
			"outputs": [],
			"source": [
				"def fizzbuzz(max_num):\n",
				"    counter = tf.constant(0)\n",
				"    max_num = tf.convert_to_tensor(max_num)\n",
				"    for num in range(1, max_num.numpy()+1):\n",
				"        num = tf.constant(num)\n",
				"        if int(num % 3) == 0 and int(num % 5) == 0:\n",
				"            print('FizzBuzz')\n",
				"        elif int(num % 3) == 0:\n",
				"            print('Fizz')\n",
				"        elif int(num % 5) == 0:\n",
				"            print('Buzz')\n",
				"        else:\n",
				"            print(num.numpy())\n",
				"        counter += 1"
			]
		},
		{
			"cell_type": "code",
			"execution_count": 11,
			"metadata": {},
			"outputs": [
				{
					"name": "stdout",
					"output_type": "stream",
					"text": [
						"1\n",
						"2\n",
						"Fizz\n",
						"4\n",
						"Buzz\n",
						"Fizz\n",
						"7\n",
						"8\n",
						"Fizz\n",
						"Buzz\n",
						"11\n",
						"Fizz\n",
						"13\n",
						"14\n",
						"FizzBuzz\n"
					]
				}
			],
			"source": [
				"fizzbuzz(15)"
			]
		},
		{
			"cell_type": "markdown",
			"metadata": {},
			"source": [
				"- This has conditionals that depend on tensor values and it prints these values at runtime."
			]
		},
		{
			"cell_type": "markdown",
			"metadata": {},
			"source": [
				"### Build a model\n",
				"\n",
				"- Many machine learning models are represented by composing layers. When using TensorFlow with eager execution you can either write your own layers or use a layer provided in the `tf.keras.layers` package.\n",
				"\n",
				"- While you can use any Python object to represent a layer, TensorFlow has `tf.keras.layers.Layer` as a convenient base class. Inherit from it to implement your own player:"
			]
		},
		{
			"cell_type": "code",
			"execution_count": 12,
			"metadata": {},
			"outputs": [],
			"source": [
				"class MySimpleLayer(tf.keras.layers.Layer):\n",
				"    def __init__(self, output_units):\n",
				"        super(MySimpleLayer, self).__init__()\n",
				"        self.output_units = output_units\n",
				"        \n",
				"    def build(self, input_shape):\n",
				"        # The build method gets called the first tiem your layer is used.\n",
				"        # Creating variables on build() allows you to make their shape depend\n",
				"        # on the input shape and hence removes the need for user to specify\n",
				"        # full shapes. It is possible to create variables during __init__() if\n",
				"        # you already know their full shapes.\n",
				"        self.kernel = self.add_variable(\"kernel\", [input_shape[-1], self.output_units])\n",
				"    \n",
				"    def call(self, input):\n",
				"        # Override call() instead of __call__ so we can perform some bookkeeping.\n",
				"        return tf.matmul(input, self.kernel)"
			]
		},
		{
			"cell_type": "markdown",
			"metadata": {},
			"source": [
				"- Use `tf.keras.layers.Dense` layer instead of `MySimpleLayer` above as it has a superset of its functionality (it can also add a bias).\n",
				"\n",
				"- When composing layers into models you can use `tf.keras.Sequential` to represent models which are a linear stack of layers. It is easy to use for basic models:"
			]
		},
		{
			"cell_type": "code",
			"execution_count": 13,
			"metadata": {},
			"outputs": [],
			"source": [
				"model = tf.keras.Sequential([\n",
				"    tf.keras.layers.Dense(10, input_shape=(784,)), # must declare input shape\n",
				"    tf.keras.layers.Dense(10)\n",
				"])"
			]
		},
		{
			"cell_type": "markdown",
			"metadata": {},
			"source": [
				"- Alternatively, organize models in classes by inheriting from `tf.keras.Model`. This is a container for layer itself, allowing `tf.keras.Model` objects to contain other `tf.keras.Model` objects."
			]
		},
		{
			"cell_type": "code",
			"execution_count": 14,
			"metadata": {},
			"outputs": [],
			"source": [
				"class MNISTModel(tf.keras.Model):\n",
				"    def __init__(self):\n",
				"        super(MNISTModel, self).__init__()\n",
				"        self.dense1 = tf.keras.layers.Dense(units=10)\n",
				"        self.dense2 = tf.keras.layers.Dense(units=10)\n",
				"        \n",
				"    def call(self, input):\n",
				"        '''Run the model.'''\n",
				"        result = self.dense1(input)\n",
				"        result = self.dense2(result)\n",
				"        result = self.dense2(result) # reuse variables from dense2 layer\n",
				"        \n",
				"model = MNISTModel()"
			]
		},
		{
			"cell_type": "markdown",
			"metadata": {},
			"source": [
				"- It's not required to set an input shape for the `tf.keras.Model` class since the parameters are set the first time input is passed to the layer.\n",
				"\n",
				"- `tf.keras.layers` classes create and contain their own model variables that are tied to the lifetime of their layer objects. To share layer variables, share their objects."
			]
		},
		{
			"cell_type": "markdown",
			"metadata": {},
			"source": [
				"## Eager training\n",
				"\n",
				"### Computing gradients\n",
				"\n",
				"- [Automatic differentiation](https://en.wikipedia.org/wiki/Automatic_differentiation) is useful for implementing machine learning algorithms such as [backpropagation](https://en.wikipedia.org/wiki/Backpropagation) for training neural networks. During eager execution, use `tf.GradientTape` to trace operations for computing gradients later.\n",
				"\n",
				"- `tf.GradientTape` is an opt-in feature to provide maximal performance when not tracing. Since different operations can occur during each call, all forward-pass operations get recorded to a \"tape\". To compute the gradient, play the tape backwards and then discard. A particular `tf.GradientTape` can only compute one gradient; subsequent calls throw a runtime error."
			]
		},
		{
			"cell_type": "code",
			"execution_count": 18,
			"metadata": {},
			"outputs": [
				{
					"name": "stdout",
					"output_type": "stream",
					"text": [
						"tf.Tensor([2.], shape=(1,), dtype=float32)\n"
					]
				}
			],
			"source": [
				"w = tf.Variable([1.0])\n",
				"with tf.GradientTape() as tape:\n",
				"    loss = w * w\n",
				"    \n",
				"grad = tape.gradient(loss, w)\n",
				"print(grad) # => tf.Tensor([[ 2.]], shape=(1, 1), dtype=float32)"
			]
		},
		{
			"cell_type": "markdown",
			"metadata": {},
			"source": [
				"### Train a model\n",
				"\n",
				"- The following example creates a multi-layer model that classifies the standard MNIST handwritten digits. It demonstrates the optimizer and layer APIs to build trainable graphs in an eager execution environment."
			]
		},
		{
			"cell_type": "code",
			"execution_count": 19,
			"metadata": {},
			"outputs": [],
			"source": [
				"# Fetch and format the mnist data\n",
				"(mnist_images, mnist_labels), _ = tf.keras.datasets.mnist.load_data()\n",
				"\n",
				"dataset = tf.data.Dataset.from_tensor_slices(\n",
				"    (tf.cast(mnist_images[...,tf.newaxis]/255, tf.float32),\n",
				"    tf.cast(mnist_labels,tf.int64)))\n",
				"dataset = dataset.shuffle(1000).batch(32)"
			]
		},
		{
			"cell_type": "code",
			"execution_count": 20,
			"metadata": {},
			"outputs": [],
			"source": [
				"# Build the model\n",
				"mnist_model = tf.keras.Sequential([\n",
				"    tf.keras.layers.Conv2D(16, [3,3], activation='relu'),\n",
				"    tf.keras.layers.Conv2D(16, [3,3], activation='relu'),\n",
				"    tf.keras.layers.GlobalAveragePooling2D(),\n",
				"    tf.keras.layers.Dense(10)\n",
				"])"
			]
		},
		{
			"cell_type": "markdown",
			"metadata": {},
			"source": [
				"- Even without training, call the model and inspect the output in eager execution:"
			]
		},
		{
			"cell_type": "code",
			"execution_count": 22,
			"metadata": {},
			"outputs": [
				{
					"name": "stdout",
					"output_type": "stream",
					"text": [
						"Logits:  [[ 0.02328178  0.06322408 -0.05037579  0.00277662  0.00567407  0.08586673\n",
						"  -0.02721465 -0.00211906  0.02003275  0.00239374]]\n"
					]
				}
			],
			"source": [
				"for images, labels in dataset.take(1):\n",
				"    print(\"Logits: \", mnist_model(images[0:1]).numpy())"
			]
		},
		{
			"cell_type": "markdown",
			"metadata": {},
			"source": [
				"- While keras models have a builtin training loop (using the `fit` method), sometimes you need more customization. Here's an example, of a training loop implemented with eager:"
			]
		},
		{
			"cell_type": "code",
			"execution_count": 23,
			"metadata": {},
			"outputs": [],
			"source": [
				"optimizer = tf.train.AdamOptimizer()\n",
				"\n",
				"loss_history=[]"
			]
		},
		{
			"cell_type": "code",
			"execution_count": 28,
			"metadata": {},
			"outputs": [
				{
					"name": "stdout",
					"output_type": "stream",
					"text": [
						"........................................"
					]
				}
			],
			"source": [
				"for (batch, (images, label)) in enumerate(dataset.take(400)):\n",
				"    if batch % 10 == 0:\n",
				"        print('.', end='')\n",
				"    with tf.GradientTape() as tape:\n",
				"        logits = mnist_model(images, training=True)\n",
				"        loss_value = tf.losses.sparse_softmax_cross_entropy(labels, logits)\n",
				"        \n",
				"    loss_history.append(loss_value.numpy())\n",
				"    grads = tape.gradient(loss_value, mnist_model.trainable_variables)\n",
				"    optimizer.apply_gradients(zip(grads, mnist_model.trainable_variables),\n",
				"                             global_step=tf.train.get_or_create_global_step())"
			]
		},
		{
			"cell_type": "code",
			"execution_count": 29,
			"metadata": {},
			"outputs": [
				{
					"data": {
						"text/plain": [
							"Text(0, 0.5, 'Loss [entropy]')"
						]
					},
					"execution_count": 29,
					"metadata": {},
					"output_type": "execute_result"
				}
			],
			"source": [
				"import matplotlib.pyplot as plt\n",
				"\n",
				"plt.plot(loss_history)\n",
				"plt.xlabel('Batch #')\n",
				"plt.ylabel('Loss [entropy]')"
			]
		}
	],
	"metadata": {
		"kernelspec": {
			"display_name": "Python 3",
			"language": "python",
			"name": "python3"
		},
		"language_info": {
			"codemirror_mode": {
				"name": "ipython",
				"version": 3
			},
			"file_extension": ".py",
			"mimetype": "text/x-python",
			"name": "python",
			"nbconvert_exporter": "python",
			"pygments_lexer": "ipython3"
		}
	},
	"nbformat": 4,
	"nbformat_minor": 2
}
