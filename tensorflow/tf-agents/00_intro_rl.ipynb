{
 "cells": [
  {
   "cell_type": "markdown",
   "metadata": {},
   "source": [
    "## Introduction\n",
    "\n",
    "Reinforcement learning (RL) is a general framework where agents learn to perform actions in an environment so as to maximize a reward. The two main components are the environment, which represents the problem to be solved, and the agent, which represents the learning algorithm.\n",
    "\n",
    "The agent and environment continously interact with each other. At each time step, the agent takes an action on the environment based on its *policy* $\\pi(a_t|s_t)$, where $s_t$ is the current observation from the environment, and receives a reward $r_{t+1}$ and the next observation $s_{t+1}$ from the environment. The goal is to improve the policy so as to maximize the sum of rewards (return).\n",
    "\n",
    "Note: It is important to distinguish between the `state` of the enviroment and the `observation`, which is the part of the environment `state` that the agent can see, e.g. in a poker game, the environment state consists of the cards belonging to all the players and the community cards, but the agent can observe only its own cards and a few community cards. In most literature, these terms are used interchangeably and `observation` is also denoted as $s$.\n",
    "\n",
    "This is a very general framework and can model a variety of sequential decision making problems such as games, robotics, etc."
   ]
  },
  {
   "cell_type": "markdown",
   "metadata": {},
   "source": [
    "## The Cartpole Environment\n",
    "\n",
    "The Cartpole environment is one of the most well known classic reinforcement learning problems (the *\"Hello, World!\"* of RL). A pole is attached to a card, which can move along a frictionless track. The pole starts upright and the goal is to prevent it from falling over by contrlling the cart.\n",
    "\n",
    "- The observation from the environment $s_t$ is a 4D vector representing the position and velocity of the cart, and the angle and angular velocity of the pole.\n",
    "- The agent can control the system by taking one of 2 actions $a_t$: push the cart right (+1) or left (-1).\n",
    "- A reward $r{t+1}$ is provided for every timestep that the pole remains upright. The episode ends when one of the following is true:\n",
    "\n",
    "    - the pole tips over some angle limit\n",
    "    - the cart moves outside of the world edges\n",
    "    - 200 time steps pass\n",
    "\n",
    "The goal of the agent is to learn a policy $\\pi(a_t|s_t)$ so as to maximize the sume of rewards in an episode $\\sum_{t=0}^{T} \\gamma^t r_t$. Here $\\gamma$ is a discount factor in $[0,1]$ that discounts future rewards relative to immediate rewards. This parameter helps us focus the policy, making it care more about obtaining rewards quickly."
   ]
  },
  {
   "cell_type": "markdown",
   "metadata": {},
   "source": [
    "## The DQN Agent\n",
    "\n",
    "The [DQN (Deep Q-Network) algorithm](https://storage.googleapis.com/deepmind-media/dqn/DQNNaturePaper.pdf) was developed by DeepMind in 2015. It was able to solve a wide range of Atari games (some to superhuman level) by combining reinforcement learning and deep neural networks at scale. The algorithm was developed by enhancing a classic RL algorithm called Q-Learning with deep neural networks and a technique called *experience replay*.\n",
    "\n",
    "### Q-Learning\n",
    "\n",
    "Q-Learning is based on the notion of a Q-function (a.k.a. the state-action value function) of a policy $\\pi$, $Q^{\\pi}(s,a)$, measures the expected return or discounted sum of rewards obtained from state $s$ by taking action $a$ first and following policy $\\pi$ thereafter. We define the optimal Q-function $Q^*(s,a)$ as the maximum return can be obtained starting from observation $s$, taking action $a$ and following the optimal policy thereafter. The optimal Q-function obeys the following *Bellman* optimility equation:\n",
    "\n",
    "$\\begin{equation}\n",
    "Q^*(s,a) = \\mathbb{E}\\left[ r + \\gamma \\max_{a'} Q^*(s', a')\\right]\n",
    "\\end{equation}$\n",
    "\n",
    "This means that the maximum return from state $s$ and action $a$ is the sum of the immediate reward $r$ and the return (discounted by $\\gamma$) obtained by following the optimal policy thereafter until the end of the episode (i.e., the maximum reward from the next state $s'$). The exception is computed both over the distribution of immediate reward $r$ and possible next state $s'$.\n",
    "\n",
    "The basic idea behind Q-Learning is to use the Bellman optimality equation as an iterative update $Q_{i+1}(s, a) \\leftarrow \\mathbb{E}\\left[ r + \\gamma \\max_{a'} Q_{i}(s', a')\\right]$, and it can be shown that this converges to the optimal $Q$-function, i.e. $Q_i \\rightarrow Q^*$ as $i \\rightarrow \\infty$ (see the [DQN paper](https://www.cs.toronto.edu/~vmnih/docs/dqn.pdf)). "
   ]
  },
  {
   "cell_type": "markdown",
   "metadata": {},
   "source": [
    "### Deep Q-Learning\n",
    "\n",
    "For most problems, it is impractical to represent the $Q$-function as a table containing values for each combination of $s$ and $a$. Instead, we train a function approximator, such as a neural network with parameter $\\theta$, to estimate the Q-values, i.e. $Q(s, a; \\theta) \\approx Q^*(s, a)$. This can done by minizing the following loss at each step $i$:\n",
    "\n",
    "$\\begin{equation}L_{i}(\\theta_i) = \\mathbb{E}_{s,a,r,s'\\sim \\rho(.)} \\left[ (y_i - Q(s, a; \\theta_i))^2 \\right]\\end{equation}$ where $y_i = r + \\gamma \\max_{a'} Q(s', a'; \\theta_{i-1})$\n",
    "\n",
    "Here, $y_i$ is called the TD (temporal difference) target, and $y_i - Q$ is called the TD error. $\\rho$ represents the behavior distribution, the distribution over transitions $\\{s, a, r, s'\\}$ collected from the environment.\n",
    "\n",
    "Note that the parameters from the previous iteration $\\theta_{i-1}$ are fixed and not updated. In practice we use a snapshot of the network parameters from a few iterations ago instead of the last iteration. This copy is called the *target network*.\n",
    "\n",
    "Q-Learning is an *off-policy* algorithm that learns about the greedy policy $a = \\max_a Q(s, a; \\theta)$ while using a different behavior policy for acting in the environment/collecting data. This behaviour policy is usually an $\\epsilon$-greedy policy that selects the greedy action with probalibity $1 - \\epsilon$ and a random action with probability $\\epsilon$ to ensure good coverage of the action-state space."
   ]
  },
  {
   "cell_type": "markdown",
   "metadata": {},
   "source": [
    "### Experience Replay\n",
    "\n",
    "To avoid computing the full expectation in the DQN loss, we can minimize it using stochastic gradient descent. If the loss is computed using just the last transition $\\{s, a, r, s'\\}, this reduces to standard Q-Learning.\n",
    "\n",
    "The Atari DQN work introduced a technique called Experience Replay to make the network updates more stable. At each time step of data collection, the transitions are added to a circular buffer called the *replay buffer*. Then during training, instead of using just the latest transition to compute loss and its gradient, we compute them using a mini-bath of transitions sampled from the replay buffer. This has two advantages: better data efficiency by reusing each transition in many updates, and better stability using uncorrelated transitions in a batch."
   ]
  },
  {
   "cell_type": "markdown",
   "metadata": {},
   "source": [
    "## DQN on Cartpole in TF-Agents\n",
    "\n",
    "TF-Agents provides all the components necessary to train a DQN agent, such as the agent itself, the environment, policies, networks, replay buffers, data collection loops, and metrics. These components are implemented as Python functions or TensorFlow graph ops, and we also have wrappers for converting between them. Additionally, TF-Agents supports TensorFlow 2.0 mode, which enables us to use TF in imperative mode.\n",
    "\n",
    "Next, take a look at the [tutorial for training a DQN agent on the Cartpole environment using TF-Agents](01_dqn_tutorial.ipynb)"
   ]
  }
 ],
 "metadata": {
  "kernelspec": {
   "display_name": "Python 3",
   "language": "python",
   "name": "python3"
  },
  "language_info": {
   "codemirror_mode": {
    "name": "ipython",
    "version": 3
   },
   "file_extension": ".py",
   "mimetype": "text/x-python",
   "name": "python",
   "nbconvert_exporter": "python",
   "pygments_lexer": "ipython3",
   "version": "3.7.3"
  }
 },
 "nbformat": 4,
 "nbformat_minor": 2
}
