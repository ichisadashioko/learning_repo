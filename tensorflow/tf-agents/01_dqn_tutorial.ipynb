{
	"cells": [
		{
			"cell_type": "markdown",
			"metadata": {
				"colab_type": "text",
				"id": "zFmNWkjuitXj"
			},
			"source": [
				"## Get started"
			]
		},
		{
			"cell_type": "code",
			"execution_count": 13,
			"metadata": {
				"colab": {
					"base_uri": "https://localhost:8080/",
					"height": 1000
				},
				"colab_type": "code",
				"id": "pseRO64LitXl",
				"outputId": "a98db3f1-d6b0-433f-ae9d-29290e7f6477",
				"scrolled": true
			},
			"outputs": [
				{
					"name": "stdout",
					"output_type": "stream",
					"text": [
						"Reading package lists... Done\n",
						"Building dependency tree       \n",
						"Reading state information... Done\n",
						"xvfb is already the newest version (2:1.19.6-1ubuntu4.2).\n",
						"The following package was automatically installed and is no longer required:\n",
						"  libnvidia-common-410\n",
						"Use 'apt autoremove' to remove it.\n",
						"0 upgraded, 0 newly installed, 0 to remove and 16 not upgraded.\n",
						"Requirement already satisfied: gym==0.10.11 in /usr/local/lib/python3.6/dist-packages (0.10.11)\n",
						"Requirement already satisfied: six in /usr/local/lib/python3.6/dist-packages (from gym==0.10.11) (1.12.0)\n",
						"Requirement already satisfied: pyglet>=1.2.0 in /usr/local/lib/python3.6/dist-packages (from gym==0.10.11) (1.3.2)\n",
						"Requirement already satisfied: numpy>=1.10.4 in /usr/local/lib/python3.6/dist-packages (from gym==0.10.11) (1.16.4)\n",
						"Requirement already satisfied: scipy in /usr/local/lib/python3.6/dist-packages (from gym==0.10.11) (1.3.0)\n",
						"Requirement already satisfied: requests>=2.0 in /usr/local/lib/python3.6/dist-packages (from gym==0.10.11) (2.21.0)\n",
						"Requirement already satisfied: future in /usr/local/lib/python3.6/dist-packages (from pyglet>=1.2.0->gym==0.10.11) (0.16.0)\n",
						"Requirement already satisfied: urllib3<1.25,>=1.21.1 in /usr/local/lib/python3.6/dist-packages (from requests>=2.0->gym==0.10.11) (1.24.3)\n",
						"Requirement already satisfied: certifi>=2017.4.17 in /usr/local/lib/python3.6/dist-packages (from requests>=2.0->gym==0.10.11) (2019.6.16)\n",
						"Requirement already satisfied: idna<2.9,>=2.5 in /usr/local/lib/python3.6/dist-packages (from requests>=2.0->gym==0.10.11) (2.8)\n",
						"Requirement already satisfied: chardet<3.1.0,>=3.0.2 in /usr/local/lib/python3.6/dist-packages (from requests>=2.0->gym==0.10.11) (3.0.4)\n",
						"Requirement already satisfied: imageio==2.4.0 in /usr/local/lib/python3.6/dist-packages (2.4.0)\n",
						"Requirement already satisfied: pillow in /usr/local/lib/python3.6/dist-packages (from imageio==2.4.0) (4.3.0)\n",
						"Requirement already satisfied: numpy in /usr/local/lib/python3.6/dist-packages (from imageio==2.4.0) (1.16.4)\n",
						"Requirement already satisfied: olefile in /usr/local/lib/python3.6/dist-packages (from pillow->imageio==2.4.0) (0.46)\n",
						"Requirement already satisfied: pillow in /usr/local/lib/python3.6/dist-packages (4.3.0)\n",
						"Requirement already satisfied: olefile in /usr/local/lib/python3.6/dist-packages (from pillow) (0.46)\n",
						"Requirement already satisfied: pyglet in /usr/local/lib/python3.6/dist-packages (1.3.2)\n",
						"Requirement already satisfied: future in /usr/local/lib/python3.6/dist-packages (from pyglet) (0.16.0)\n",
						"Requirement already satisfied: pyvirtualdisplay in /usr/local/lib/python3.6/dist-packages (0.2.4)\n",
						"Requirement already satisfied: EasyProcess in /usr/local/lib/python3.6/dist-packages (from pyvirtualdisplay) (0.2.7)\n",
						"Requirement already satisfied: tf-agents-nightly in /usr/local/lib/python3.6/dist-packages (0.2.0.dev20190528)\n",
						"Requirement already satisfied: gin-config==0.1.3 in /usr/local/lib/python3.6/dist-packages (from tf-agents-nightly) (0.1.3)\n",
						"Requirement already satisfied: numpy>=1.13.3 in /usr/local/lib/python3.6/dist-packages (from tf-agents-nightly) (1.16.4)\n",
						"Requirement already satisfied: tfp-nightly in /usr/local/lib/python3.6/dist-packages (from tf-agents-nightly) (0.8.0.dev20190706)\n",
						"Requirement already satisfied: absl-py>=0.6.1 in /usr/local/lib/python3.6/dist-packages (from tf-agents-nightly) (0.7.1)\n",
						"Requirement already satisfied: six>=1.10.0 in /usr/local/lib/python3.6/dist-packages (from tf-agents-nightly) (1.12.0)\n",
						"Requirement already satisfied: decorator in /usr/local/lib/python3.6/dist-packages (from tfp-nightly->tf-agents-nightly) (4.4.0)\n",
						"Requirement already satisfied: cloudpickle==1.1.1 in /usr/local/lib/python3.6/dist-packages (from tfp-nightly->tf-agents-nightly) (1.1.1)\n",
						"Requirement already satisfied: tf-nightly in /usr/local/lib/python3.6/dist-packages (1.15.0.dev20190706)\n",
						"Requirement already satisfied: google-pasta>=0.1.6 in /usr/local/lib/python3.6/dist-packages (from tf-nightly) (0.1.7)\n",
						"Requirement already satisfied: keras-preprocessing>=1.0.5 in /usr/local/lib/python3.6/dist-packages (from tf-nightly) (1.1.0)\n",
						"Requirement already satisfied: numpy<2.0,>=1.14.5 in /usr/local/lib/python3.6/dist-packages (from tf-nightly) (1.16.4)\n",
						"Requirement already satisfied: six>=1.10.0 in /usr/local/lib/python3.6/dist-packages (from tf-nightly) (1.12.0)\n",
						"Requirement already satisfied: astor>=0.6.0 in /usr/local/lib/python3.6/dist-packages (from tf-nightly) (0.8.0)\n",
						"Requirement already satisfied: protobuf>=3.6.1 in /usr/local/lib/python3.6/dist-packages (from tf-nightly) (3.7.1)\n",
						"Requirement already satisfied: keras-applications>=1.0.8 in /usr/local/lib/python3.6/dist-packages (from tf-nightly) (1.0.8)\n",
						"Requirement already satisfied: wrapt>=1.11.1 in /usr/local/lib/python3.6/dist-packages (from tf-nightly) (1.11.2)\n",
						"Requirement already satisfied: absl-py>=0.7.0 in /usr/local/lib/python3.6/dist-packages (from tf-nightly) (0.7.1)\n",
						"Requirement already satisfied: tb-nightly<1.15.0a0,>=1.14.0a0 in /usr/local/lib/python3.6/dist-packages (from tf-nightly) (1.14.0a20190614)\n",
						"Requirement already satisfied: wheel>=0.26 in /usr/local/lib/python3.6/dist-packages (from tf-nightly) (0.33.4)\n",
						"Requirement already satisfied: tf-estimator-nightly in /usr/local/lib/python3.6/dist-packages (from tf-nightly) (1.14.0.dev2019070601)\n",
						"Requirement already satisfied: termcolor>=1.1.0 in /usr/local/lib/python3.6/dist-packages (from tf-nightly) (1.1.0)\n",
						"Requirement already satisfied: grpcio>=1.8.6 in /usr/local/lib/python3.6/dist-packages (from tf-nightly) (1.15.0)\n",
						"Requirement already satisfied: opt-einsum>=2.3.2 in /usr/local/lib/python3.6/dist-packages (from tf-nightly) (2.3.2)\n",
						"Requirement already satisfied: gast>=0.2.0 in /usr/local/lib/python3.6/dist-packages (from tf-nightly) (0.2.2)\n",
						"Requirement already satisfied: setuptools in /usr/local/lib/python3.6/dist-packages (from protobuf>=3.6.1->tf-nightly) (41.0.1)\n",
						"Requirement already satisfied: h5py in /usr/local/lib/python3.6/dist-packages (from keras-applications>=1.0.8->tf-nightly) (2.8.0)\n",
						"Requirement already satisfied: markdown>=2.6.8 in /usr/local/lib/python3.6/dist-packages (from tb-nightly<1.15.0a0,>=1.14.0a0->tf-nightly) (3.1.1)\n",
						"Requirement already satisfied: werkzeug>=0.11.15 in /usr/local/lib/python3.6/dist-packages (from tb-nightly<1.15.0a0,>=1.14.0a0->tf-nightly) (0.15.4)\n",
						"Requirement already satisfied: tf-agents-nightly in /usr/local/lib/python3.6/dist-packages (0.2.0.dev20190528)\n",
						"Requirement already satisfied: absl-py>=0.6.1 in /usr/local/lib/python3.6/dist-packages (from tf-agents-nightly) (0.7.1)\n",
						"Requirement already satisfied: gin-config==0.1.3 in /usr/local/lib/python3.6/dist-packages (from tf-agents-nightly) (0.1.3)\n",
						"Requirement already satisfied: numpy>=1.13.3 in /usr/local/lib/python3.6/dist-packages (from tf-agents-nightly) (1.16.4)\n",
						"Requirement already satisfied: six>=1.10.0 in /usr/local/lib/python3.6/dist-packages (from tf-agents-nightly) (1.12.0)\n",
						"Requirement already satisfied: tfp-nightly in /usr/local/lib/python3.6/dist-packages (from tf-agents-nightly) (0.8.0.dev20190706)\n",
						"Requirement already satisfied: decorator in /usr/local/lib/python3.6/dist-packages (from tfp-nightly->tf-agents-nightly) (4.4.0)\n",
						"Requirement already satisfied: cloudpickle==1.1.1 in /usr/local/lib/python3.6/dist-packages (from tfp-nightly->tf-agents-nightly) (1.1.1)\n"
					]
				}
			],
			"source": [
				"# Note: If you haven't installed the following dependencies, run:\n",
				"!apt-get install xvfb\n",
				"!pip install 'gym==0.10.11'\n",
				"!pip install 'imageio==2.4.0'\n",
				"!pip install pillow\n",
				"!pip install pyglet\n",
				"!pip install pyvirtualdisplay\n",
				"!pip install tf-agents-nightly\n",
				"!pip install tf-nightly\n",
				"!pip install tf-agents-nightly"
			]
		},
		{
			"cell_type": "markdown",
			"metadata": {
				"colab_type": "text",
				"id": "NSohvuiBitXu"
			},
			"source": [
				"## Introduction\n",
				"\n",
				"This example shows how to train a [DQN (Deep Q Networks)](https://storage.googleapis.com/deepmind-media/dqn/DQNNaturePaper.pdf) agent on the Cartpole environment using the TF-Agents library.\n",
				"\n",
				"We will walk you through all the compoments in a Reinforcement Learning (RL) pipeline for training, evaluation and data collection."
			]
		},
		{
			"cell_type": "markdown",
			"metadata": {
				"colab_type": "text",
				"id": "pNGaEfkyitXw"
			},
			"source": [
				"## Setup"
			]
		},
		{
			"cell_type": "code",
			"execution_count": 0,
			"metadata": {
				"colab": {},
				"colab_type": "code",
				"id": "YhEUFq9kitXy"
			},
			"outputs": [],
			"source": [
				"from __future__ import absolute_import, division, print_function\n",
				"\n",
				"import base64\n",
				"\n",
				"import imageio\n",
				"\n",
				"import IPython\n",
				"\n",
				"import numpy as np\n",
				"import matplotlib\n",
				"import matplotlib.pyplot as plt\n",
				"import PIL.Image\n",
				"\n",
				"import pyvirtualdisplay\n",
				"\n",
				"import tensorflow as tf\n",
				"\n",
				"from tf_agents.agents.dqn import dqn_agent\n",
				"from tf_agents.drivers import dynamic_step_driver\n",
				"from tf_agents.environments import suite_gym\n",
				"from tf_agents.environments import tf_py_environment\n",
				"from tf_agents.eval import metric_utils\n",
				"from tf_agents.metrics import tf_metrics\n",
				"from tf_agents.networks import q_network\n",
				"from tf_agents.policies import random_tf_policy\n",
				"from tf_agents.replay_buffers import tf_uniform_replay_buffer\n",
				"from tf_agents.trajectories import trajectory\n",
				"from tf_agents.utils import common"
			]
		},
		{
			"cell_type": "code",
			"execution_count": 15,
			"metadata": {
				"colab": {
					"base_uri": "https://localhost:8080/",
					"height": 51
				},
				"colab_type": "code",
				"id": "HSjAPfFTitX1",
				"outputId": "a7d21095-ba15-470b-ccea-fe3e3ceda321"
			},
			"outputs": [
				{
					"name": "stdout",
					"output_type": "stream",
					"text": [
						"1.15.0-dev20190706\n",
						"0.2.0\n"
					]
				}
			],
			"source": [
				"print(tf.__version__)\n",
				"import tf_agents\n",
				"print(tf_agents.__version__)"
			]
		},
		{
			"cell_type": "code",
			"execution_count": 0,
			"metadata": {
				"colab": {},
				"colab_type": "code",
				"id": "v9QRPWM2itX5"
			},
			"outputs": [],
			"source": [
				"tf.compat.v1.enable_v2_behavior()"
			]
		},
		{
			"cell_type": "code",
			"execution_count": 17,
			"metadata": {
				"colab": {
					"base_uri": "https://localhost:8080/",
					"height": 54
				},
				"colab_type": "code",
				"id": "WLmADwyJitX8",
				"outputId": "f3134162-411d-4ba6-a354-ad8276823985"
			},
			"outputs": [
				{
					"name": "stderr",
					"output_type": "stream",
					"text": [
						"W0706 12:33:48.242400 139627434522496 abstractdisplay.py:151] xdpyinfo was not found, X start can not be checked! Please install xdpyinfo!\n"
					]
				}
			],
			"source": [
				"# Setup a virtual display for rendering OpenAI gym environments\n",
				"display = pyvirtualdisplay.Display(visible=0, size=(1400, 900)).start()"
			]
		},
		{
			"cell_type": "code",
			"execution_count": 0,
			"metadata": {
				"colab": {},
				"colab_type": "code",
				"id": "evU9XHhojkas"
			},
			"outputs": [],
			"source": [
				"env_name = 'CartPole-v0'\n",
				"num_iterations = 20_000\n",
				"\n",
				"initial_collect_steps = 1_000\n",
				"collect_steps_per_iteration = 1\n",
				"replay_buffer_capacity = 100_000\n",
				"\n",
				"fc_layer_params = (100, )\n",
				"\n",
				"batch_size = 64\n",
				"learning_rate = 1e-3\n",
				"log_interval = 200\n",
				"\n",
				"num_eval_episodes = 10\n",
				"eval_interval = 1_000"
			]
		},
		{
			"cell_type": "markdown",
			"metadata": {
				"colab_type": "text",
				"id": "1fxB9LkAmxyM"
			},
			"source": [
				"## Environment\n",
				"\n",
				"Environments in RL represent the task or problem that we are trying to solve. Standard environments can be easily created in TF-Agents using `suites`. We have different `suites` for loading environments from sources such as OpenAI Gym, Atari, DM Control, etc., given a string environment name.\n",
				"\n",
				"Now let us load the CartPole environment from the OpenAI Gym suite."
			]
		},
		{
			"cell_type": "code",
			"execution_count": 0,
			"metadata": {
				"colab": {},
				"colab_type": "code",
				"id": "aYUYqQIfnlmB"
			},
			"outputs": [],
			"source": [
				"env = suite_gym.load(env_name)"
			]
		},
		{
			"cell_type": "markdown",
			"metadata": {
				"colab_type": "text",
				"id": "H_3nP6DOnp1X"
			},
			"source": [
				"We can render this environment to see how it looks. A free-swinging pole is attached to a cart. The goal is to move the cart right or left in order to keep the pole pointing up."
			]
		},
		{
			"cell_type": "code",
			"execution_count": 20,
			"metadata": {
				"colab": {
					"base_uri": "https://localhost:8080/",
					"height": 417
				},
				"colab_type": "code",
				"id": "RbwOsRiQn_rb",
				"outputId": "811f7794-317c-4657-a079-83ddd4e5b92b"
			},
			"outputs": [
				{
					"data": {
						"image/png": "[encoded data removed]",
						"text/plain": [
							"<PIL.Image.Image image mode=RGB size=600x400 at 0x7EFD3B730B70>"
						]
					},
					"execution_count": 20,
					"metadata": {
						"tags": []
					},
					"output_type": "execute_result"
				}
			],
			"source": [
				"#@test {'skip': True}\n",
				"env.reset()\n",
				"PIL.Image.fromarray(env.render())"
			]
		},
		{
			"cell_type": "markdown",
			"metadata": {
				"colab_type": "text",
				"id": "EwhANeBmo8WY"
			},
			"source": [
				"The `time_step = environment.step(action)` statement takes `action` in the environment. The `TimeStep` tuple returned contains the environment's next observation and reward for that action. The `time_step_spec()` and `action_spec()` methods in the environment return the specifications (types, shape, bounds) of the `time_step` and `action` respectively."
			]
		},
		{
			"cell_type": "code",
			"execution_count": 21,
			"metadata": {
				"colab": {
					"base_uri": "https://localhost:8080/",
					"height": 105
				},
				"colab_type": "code",
				"id": "LRzZvIefprsA",
				"outputId": "76c79548-5c66-4e30-fbea-c096fdaa1eeb"
			},
			"outputs": [
				{
					"name": "stdout",
					"output_type": "stream",
					"text": [
						"Observation Spec:\n",
						"BoundedArraySpec(shape=(4,), dtype=dtype('float32'), name=None, minimum=[-4.8000002e+00 -3.4028235e+38 -4.1887903e-01 -3.4028235e+38], maximum=[4.8000002e+00 3.4028235e+38 4.1887903e-01 3.4028235e+38])\n",
						"Action Spec:\n",
						"BoundedArraySpec(shape=(), dtype=dtype('int64'), name=None, minimum=0, maximum=1)\n"
					]
				}
			],
			"source": [
				"print('Observation Spec:')\n",
				"print(env.time_step_spec().observation)\n",
				"print('Action Spec:')\n",
				"print(env.action_spec())"
			]
		},
		{
			"cell_type": "markdown",
			"metadata": {
				"colab_type": "text",
				"id": "30EV1XF5qs6k"
			},
			"source": [
				"So, we see that observation is an array of 4 floats: the position and velocity of the cart, and the angular position and velocity of the pole. Since only two actions are possible (move left or move right), the `action_spec` is a scalar where 0 means \"move left\" and 1 means \"move right\"."
			]
		},
		{
			"cell_type": "code",
			"execution_count": 22,
			"metadata": {
				"colab": {
					"base_uri": "https://localhost:8080/",
					"height": 105
				},
				"colab_type": "code",
				"id": "boRIXzEP17IW",
				"outputId": "278c5913-e7f7-4f57-e6d8-7a16193e7406"
			},
			"outputs": [
				{
					"name": "stdout",
					"output_type": "stream",
					"text": [
						"Time step:\n",
						"TimeStep(step_type=array(0, dtype=int32), reward=array(0., dtype=float32), discount=array(1., dtype=float32), observation=array([-0.03183455,  0.00841332,  0.00802744, -0.02137931], dtype=float32))\n",
						"Next time step:\n",
						"TimeStep(step_type=array(1, dtype=int32), reward=array(1., dtype=float32), discount=array(1., dtype=float32), observation=array([-0.03166628,  0.20341924,  0.00759986, -0.3115187 ], dtype=float32))\n"
					]
				}
			],
			"source": [
				"time_step = env.reset()\n",
				"print('Time step:')\n",
				"print(time_step)\n",
				"\n",
				"action = 1\n",
				"\n",
				"next_time_step = env.step(action)\n",
				"print('Next time step:')\n",
				"print(next_time_step)"
			]
		},
		{
			"cell_type": "markdown",
			"metadata": {
				"colab_type": "text",
				"id": "QgOQ6QYn5tS2"
			},
			"source": [
				"Usually we create two environments: one for training and one for evaluation. Most environments are written in pure Python, but they can be easily converted to Tensorflow using the `TFPyEnvironment` wrapper. The original environment's API uses numpy arrays, the `TFPyEnvironment` converts these to/from `Tensors` for you to more easily interact with Tensorflow policies and agents."
			]
		},
		{
			"cell_type": "code",
			"execution_count": 0,
			"metadata": {
				"colab": {},
				"colab_type": "code",
				"id": "iRaQMC4p6JW6"
			},
			"outputs": [],
			"source": [
				"train_py_env = suite_gym.load(env_name)\n",
				"eval_py_env = suite_gym.load(env_name)\n",
				"\n",
				"train_env = tf_py_environment.TFPyEnvironment(train_py_env)\n",
				"eval_env = tf_py_environment.TFPyEnvironment(eval_py_env)"
			]
		},
		{
			"cell_type": "markdown",
			"metadata": {
				"colab_type": "text",
				"id": "2nQ7KVfK6Zch"
			},
			"source": [
				"## Agent\n",
				"\n",
				"The algorithm that we use to solve an RL problem is represented as an `Agent`. In addition to the DQN agent, TF-Agents provides standard implementations of a variety of `Agents` such as [REINFORCE](http://www-anw.cs.umass.edu/~barto/courses/cs687/williams92simple.pdf), [DDPG](https://arxiv.org/pdf/1509.02971.pdf), [TD3](https://arxiv.org/pdf/1802.09477.pdf), [PPO](https://arxiv.org/abs/1707.06347) and [SAC](https://arxiv.org/abs/1801.01290).\n",
				"\n",
				"The DQN agent can be used in any environment which has a discrete action space. To create a DQN Agent, we first need a `Q-Network` that can learn to predict `Q-Values` (expected return) for all actions given an observation from the environment.\n",
				"\n",
				"We can easily create a `Q-Network` using the specs of the observations and actions. We can specify the layers in the network which, in this example, is the `fc_layer_params` argument set to a tuple of `ints` representing the sizes of each hidden layer (see the Hyperparameters section above)."
			]
		},
		{
			"cell_type": "code",
			"execution_count": 0,
			"metadata": {
				"colab": {},
				"colab_type": "code",
				"id": "5XIOO2uDRQLT"
			},
			"outputs": [],
			"source": [
				"q_net = q_network.QNetwork(\n",
				"    input_tensor_spec=train_env.observation_spec(),\n",
				"    action_spec=train_env.action_spec(),\n",
				"    fc_layer_params=fc_layer_params,\n",
				")"
			]
		},
		{
			"cell_type": "markdown",
			"metadata": {
				"colab_type": "text",
				"id": "NIQDz717RvE7"
			},
			"source": [
				"We also need an `optimizer` to train the network we just created, and a `train_step_counter` variable to keep track of how many times the network was updated."
			]
		},
		{
			"cell_type": "code",
			"execution_count": 27,
			"metadata": {
				"colab": {
					"base_uri": "https://localhost:8080/",
					"height": 34
				},
				"colab_type": "code",
				"id": "2zZtXyf4TdYO",
				"outputId": "15e46787-2bd3-4e34-c667-e0aa4effd842"
			},
			"outputs": [
				{
					"data": {
						"text/plain": [
							"tf_agents.networks.q_network.QNetwork"
						]
					},
					"execution_count": 27,
					"metadata": {
						"tags": []
					},
					"output_type": "execute_result"
				}
			],
			"source": [
				"type(q_net)"
			]
		},
		{
			"cell_type": "code",
			"execution_count": 0,
			"metadata": {
				"colab": {},
				"colab_type": "code",
				"id": "ucIUg1v6Stod"
			},
			"outputs": [],
			"source": [
				"optimizer = tf.compat.v1.train.AdamOptimizer(learning_rate=learning_rate)\n",
				"\n",
				"train_step_counter = tf.compat.v2.Variable(0)\n",
				"\n",
				"tf_agent = dqn_agent.DqnAgent(\n",
				"    time_step_spec=train_env.time_step_spec(),\n",
				"    action_spec=train_env.action_spec(),\n",
				"    q_network=q_net,\n",
				"    optimizer=optimizer,\n",
				"    td_errors_loss_fn=dqn_agent.element_wise_squared_loss,\n",
				"    train_step_counter=train_step_counter,\n",
				")"
			]
		},
		{
			"cell_type": "markdown",
			"metadata": {
				"colab_type": "text",
				"id": "3jZxoTRcUWEZ"
			},
			"source": [
				"## Policies\n",
				"\n",
				"In TF-Agents, policies represent the standard notion of policies in RL: given a `time_step` produce an action or a distribution over actions. The main method is `policy_step = policy.step(time_step)` where `policy_step` is a named tuple `PolicyStep(action, state, info)`. The `policy_step.action` is the `action` to be applied to the environment, `state` represents the state for stateful (RNN) policies and `info` may contain auxiliary information such as log probabilities of the actions.\n",
				"\n",
				"Agents contain two policies: the main policy that is used for evaluation/deployment (agent policy) and another policy that is used for data collection (agent.collect_policy)."
			]
		},
		{
			"cell_type": "code",
			"execution_count": 0,
			"metadata": {
				"colab": {},
				"colab_type": "code",
				"id": "YlFCO-joVjQf"
			},
			"outputs": [],
			"source": [
				"eval_policy = tf_agent.policy\n",
				"collect_policy = tf_agent.collect_policy"
			]
		},
		{
			"cell_type": "markdown",
			"metadata": {
				"colab_type": "text",
				"id": "r3Dlh3l_VsJV"
			},
			"source": [
				"We can also independently create policies that are not part of an agent. For example, a random policy:"
			]
		},
		{
			"cell_type": "code",
			"execution_count": 0,
			"metadata": {
				"colab": {},
				"colab_type": "code",
				"id": "eEDkPyYNWJS7"
			},
			"outputs": [],
			"source": [
				"random_policy = random_tf_policy.RandomTFPolicy(train_env.time_step_spec(), train_env.action_spec())"
			]
		},
		{
			"cell_type": "markdown",
			"metadata": {
				"colab_type": "text",
				"id": "AqMpfhtdWZ_a"
			},
			"source": [
				"## Metrics and Evaluation\n",
				"\n",
				"The most common metric used to evaluate a policy is the average return. The return is the sum of rewards obtained while running a policy in an environment for an episode, and we usually average this over a few episodes. We can compute the average return metric as follows."
			]
		},
		{
			"cell_type": "code",
			"execution_count": 32,
			"metadata": {
				"colab": {
					"base_uri": "https://localhost:8080/",
					"height": 34
				},
				"colab_type": "code",
				"id": "XNBJIee_XKKk",
				"outputId": "ce9bda9e-1100-46d1-c848-659998145d3f"
			},
			"outputs": [
				{
					"data": {
						"text/plain": [
							"19.0"
						]
					},
					"execution_count": 32,
					"metadata": {
						"tags": []
					},
					"output_type": "execute_result"
				}
			],
			"source": [
				"#@test {'skip': True}\n",
				"def compute_avg_return(environment, policy, num_episodes=10):\n",
				"    total_return = 0.0\n",
				"    for _ in range(num_episodes):\n",
				"        time_step = environment.reset()\n",
				"        episode_return = 0.0\n",
				"        \n",
				"        while not time_step.is_last():\n",
				"            action_step = policy.action(time_step)\n",
				"            time_step = environment.step(action_step.action)\n",
				"            episode_return += time_step.reward\n",
				"        total_return += episode_return\n",
				"    \n",
				"    avg_return = total_return / num_episodes\n",
				"    return avg_return.numpy()[0]\n",
				"\n",
				"compute_avg_return(eval_env, random_policy, num_eval_episodes)\n",
				"\n",
				"# Please also see the metrics module for standard implementations of different metrics"
			]
		},
		{
			"cell_type": "markdown",
			"metadata": {
				"colab_type": "text",
				"id": "eRlS2b51YnfP"
			},
			"source": [
				"## Replay Buffer\n",
				"\n",
				"In order to keep track of the data collected from the environment, we will use the `TFUniformReplayBuffer`. This replay buffer is constructed using specs describing the tensors that are to be stored, which can be obtained from the agent using `tf_agent.collect_data_spec`."
			]
		},
		{
			"cell_type": "code",
			"execution_count": 0,
			"metadata": {
				"colab": {},
				"colab_type": "code",
				"id": "c2ZzGDXbZFZ-"
			},
			"outputs": [],
			"source": [
				"replay_buffer = tf_uniform_replay_buffer.TFUniformReplayBuffer(\n",
				"    data_spec=tf_agent.collect_data_spec,\n",
				"    batch_size=train_env.batch_size,\n",
				"    max_length=replay_buffer_capacity,\n",
				")"
			]
		},
		{
			"cell_type": "markdown",
			"metadata": {
				"colab_type": "text",
				"id": "tKXFnAnTZda0"
			},
			"source": [
				"For most agents, the `collect_data_spec` is a `Trajectory` named tuple containing the observation, action, reward, etc."
			]
		},
		{
			"cell_type": "markdown",
			"metadata": {
				"colab_type": "text",
				"id": "PYL2SAVtZr8r"
			},
			"source": [
				"## Data Collection\n",
				"\n",
				"Now let us execute the random policy in the environment for a few steps and record the data (observations, actions, rewards, etc.) in the replay buffer."
			]
		},
		{
			"cell_type": "code",
			"execution_count": 0,
			"metadata": {
				"colab": {},
				"colab_type": "code",
				"id": "NC4M8J4NaMqb"
			},
			"outputs": [],
			"source": [
				"#@test {'skip': True}\n",
				"def collect_step(environment, policy):\n",
				"    time_step = environment.current_time_step()\n",
				"    action_step = policy.action(time_step)\n",
				"    next_time_step = environment.step(action_step.action)\n",
				"    traj = trajectory.from_transition(time_step, action_step, next_time_step)\n",
				"    \n",
				"    # Add trajectory to the replay buffer\n",
				"    replay_buffer.add_batch(traj)\n",
				"\n",
				"for _ in range(initial_collect_steps):\n",
				"    collect_step(train_env, random_policy)\n",
				"    \n",
				"# This loop is so common in RL, that we provide standard implementations of these.\n",
				"# For more details see the drivers module."
			]
		},
		{
			"cell_type": "markdown",
			"metadata": {
				"colab_type": "text",
				"id": "deUKmRtWbTBt"
			},
			"source": [
				"In order to sample data from the replay buffer, we will create a `tf.data` pipeline which we can feed to the agent for training later. We can specify the `sample_batch_size` to configure the number of items sampled from the replay buffer. We can also optimize the data pipeline using parallel calls and prefetching.\n",
				"\n",
				"In order to save space, we only store the current observation in each row of the replay buffer. But since the DQN Agent needs both the current and next observation to compute the loss, we always sample two adjacent rows for each item in the batch by setting `num_steps=2`."
			]
		},
		{
			"cell_type": "code",
			"execution_count": 0,
			"metadata": {
				"colab": {},
				"colab_type": "code",
				"id": "DdjENQwvcAnZ"
			},
			"outputs": [],
			"source": [
				"# Dataset generates trajectories with shape [Bx2x...]\n",
				"dataset = replay_buffer.as_dataset(\n",
				"    num_parallel_calls=3,\n",
				"    sample_batch_size=batch_size,\n",
				"    num_steps=2,\n",
				").prefetch(3)\n",
				"\n",
				"iterator = iter(dataset)"
			]
		},
		{
			"cell_type": "markdown",
			"metadata": {
				"colab_type": "text",
				"id": "A-mH_K85dudj"
			},
			"source": [
				"## Training the agent\n",
				"\n",
				"The training loop involves both collecting data from the environment and optimizing the agent's networks. Along the way, we will occasionally evaluate the agent's policy to see how we are doing.\n",
				"\n",
				"The following will take ~5 minutes to run"
			]
		},
		{
			"cell_type": "code",
			"execution_count": 36,
			"metadata": {
				"colab": {
					"base_uri": "https://localhost:8080/",
					"height": 1000
				},
				"colab_type": "code",
				"id": "iqbLxBqtfJ7r",
				"outputId": "05487476-275f-442b-e842-4130fdc4494f"
			},
			"outputs": [
				{
					"name": "stderr",
					"output_type": "stream",
					"text": [
						"W0706 13:40:34.120270 139627434522496 deprecation.py:323] From /usr/local/lib/python3.6/dist-packages/tf_agents/policies/epsilon_greedy_policy.py:96: where (from tensorflow.python.ops.array_ops) is deprecated and will be removed in a future version.\n",
						"Instructions for updating:\n",
						"Use tf.where in 2.0, which has the same broadcast rule as np.where\n",
						"W0706 13:40:34.310968 139627434522496 deprecation.py:323] From /usr/local/lib/python3.6/dist-packages/tensorflow_core/python/training/optimizer.py:172: BaseResourceVariable.constraint (from tensorflow.python.ops.resource_variable_ops) is deprecated and will be removed in a future version.\n",
						"Instructions for updating:\n",
						"Apply a constraint manually following the optimizer update step.\n"
					]
				},
				{
					"name": "stdout",
					"output_type": "stream",
					"text": [
						"step = 200: loss = 30.490049362182617\n",
						"step = 400: loss = 13.434477806091309\n",
						"step = 600: loss = 35.6773796081543\n",
						"step = 800: loss = 9.577139854431152\n",
						"step = 1000: loss = 19.14862823486328\n",
						"step = 1000: Average Return = 42.0\n",
						"step = 1200: loss = 14.721395492553711\n",
						"step = 1400: loss = 20.15286636352539\n",
						"step = 1600: loss = 31.054426193237305\n",
						"step = 1800: loss = 44.02198791503906\n",
						"step = 2000: loss = 53.10308074951172\n",
						"step = 2000: Average Return = 23.799999237060547\n",
						"step = 2200: loss = 67.30393981933594\n",
						"step = 2400: loss = 43.63457107543945\n",
						"step = 2600: loss = 36.713409423828125\n",
						"step = 2800: loss = 57.68275833129883\n",
						"step = 3000: loss = 90.59750366210938\n",
						"step = 3000: Average Return = 82.0999984741211\n",
						"step = 3200: loss = 22.643049240112305\n",
						"step = 3400: loss = 60.850921630859375\n",
						"step = 3600: loss = 48.426048278808594\n",
						"step = 3800: loss = 11.080589294433594\n",
						"step = 4000: loss = 49.23651885986328\n",
						"step = 4000: Average Return = 89.9000015258789\n",
						"step = 4200: loss = 61.190879821777344\n",
						"step = 4400: loss = 31.26735496520996\n",
						"step = 4600: loss = 102.25198364257812\n",
						"step = 4800: loss = 69.54241943359375\n",
						"step = 5000: loss = 21.375167846679688\n",
						"step = 5000: Average Return = 161.1999969482422\n",
						"step = 5200: loss = 189.50820922851562\n",
						"step = 5400: loss = 6.811005115509033\n",
						"step = 5600: loss = 8.907987594604492\n",
						"step = 5800: loss = 197.55307006835938\n",
						"step = 6000: loss = 58.44837951660156\n",
						"step = 6000: Average Return = 122.69999694824219\n",
						"step = 6200: loss = 8.833734512329102\n",
						"step = 6400: loss = 68.1432113647461\n",
						"step = 6600: loss = 129.1040802001953\n",
						"step = 6800: loss = 229.71861267089844\n",
						"step = 7000: loss = 178.8262939453125\n",
						"step = 7000: Average Return = 182.89999389648438\n",
						"step = 7200: loss = 39.179500579833984\n",
						"step = 7400: loss = 6.910029888153076\n",
						"step = 7600: loss = 7.953676223754883\n",
						"step = 7800: loss = 279.72918701171875\n",
						"step = 8000: loss = 45.51544952392578\n",
						"step = 8000: Average Return = 193.5\n",
						"step = 8200: loss = 12.768936157226562\n",
						"step = 8400: loss = 398.9698486328125\n",
						"step = 8600: loss = 122.35494995117188\n",
						"step = 8800: loss = 10.052164077758789\n",
						"step = 9000: loss = 14.629888534545898\n",
						"step = 9000: Average Return = 199.6999969482422\n",
						"step = 9200: loss = 9.358785629272461\n",
						"step = 9400: loss = 434.7550048828125\n",
						"step = 9600: loss = 503.5841064453125\n",
						"step = 9800: loss = 235.48464965820312\n",
						"step = 10000: loss = 19.29249382019043\n",
						"step = 10000: Average Return = 200.0\n",
						"step = 10200: loss = 10.442014694213867\n",
						"step = 10400: loss = 252.58531188964844\n",
						"step = 10600: loss = 14.306241989135742\n",
						"step = 10800: loss = 90.75544738769531\n",
						"step = 11000: loss = 281.1470947265625\n",
						"step = 11000: Average Return = 198.0\n",
						"step = 11200: loss = 19.770305633544922\n",
						"step = 11400: loss = 19.746063232421875\n",
						"step = 11600: loss = 318.5774230957031\n",
						"step = 11800: loss = 29.400880813598633\n",
						"step = 12000: loss = 184.35958862304688\n",
						"step = 12000: Average Return = 186.1999969482422\n",
						"step = 12200: loss = 744.5934448242188\n",
						"step = 12400: loss = 373.0315856933594\n",
						"step = 12600: loss = 340.9001770019531\n",
						"step = 12800: loss = 937.9334716796875\n",
						"step = 13000: loss = 37.73381423950195\n",
						"step = 13000: Average Return = 200.0\n",
						"step = 13200: loss = 53.029048919677734\n",
						"step = 13400: loss = 19.919767379760742\n",
						"step = 13600: loss = 295.48236083984375\n",
						"step = 13800: loss = 44.77114486694336\n",
						"step = 14000: loss = 34.08150100708008\n",
						"step = 14000: Average Return = 200.0\n",
						"step = 14200: loss = 289.6349182128906\n",
						"step = 14400: loss = 32.22962188720703\n",
						"step = 14600: loss = 4183.80859375\n",
						"step = 14800: loss = 25.096223831176758\n",
						"step = 15000: loss = 38.556766510009766\n",
						"step = 15000: Average Return = 200.0\n",
						"step = 15200: loss = 906.7825927734375\n",
						"step = 15400: loss = 555.80419921875\n",
						"step = 15600: loss = 649.8554077148438\n",
						"step = 15800: loss = 486.3362731933594\n",
						"step = 16000: loss = 31.507966995239258\n",
						"step = 16000: Average Return = 193.6999969482422\n",
						"step = 16200: loss = 534.104248046875\n",
						"step = 16400: loss = 469.89373779296875\n",
						"step = 16600: loss = 50.43220520019531\n",
						"step = 16800: loss = 993.328125\n",
						"step = 17000: loss = 500.3277587890625\n",
						"step = 17000: Average Return = 178.39999389648438\n",
						"step = 17200: loss = 236.52749633789062\n",
						"step = 17400: loss = 448.58233642578125\n",
						"step = 17600: loss = 41.53592300415039\n",
						"step = 17800: loss = 674.4220581054688\n",
						"step = 18000: loss = 1066.2822265625\n",
						"step = 18000: Average Return = 197.39999389648438\n",
						"step = 18200: loss = 193.28219604492188\n",
						"step = 18400: loss = 18.99037742614746\n",
						"step = 18600: loss = 49.68766784667969\n",
						"step = 18800: loss = 43.961273193359375\n",
						"step = 19000: loss = 27.582107543945312\n",
						"step = 19000: Average Return = 193.10000610351562\n",
						"step = 19200: loss = 731.2130126953125\n",
						"step = 19400: loss = 48.4640998840332\n",
						"step = 19600: loss = 842.9365844726562\n",
						"step = 19800: loss = 35.824729919433594\n",
						"step = 20000: loss = 31.324127197265625\n",
						"step = 20000: Average Return = 198.89999389648438\n",
						"CPU times: user 5min 9s, sys: 4.35 s, total: 5min 13s\n",
						"Wall time: 4min 51s\n"
					]
				}
			],
			"source": [
				"#@test {'skip': True}\n",
				"%%time\n",
				"\n",
				"# (Optional) Optimize by wrapping some of the code in a graph using TF function.\n",
				"tf_agent.train = common.function(tf_agent.train)\n",
				"\n",
				"# Reset the train step\n",
				"tf_agent.train_step_counter.assign(0)\n",
				"\n",
				"# Evaluate the agent's policy once before training\n",
				"avg_return = compute_avg_return(eval_env, tf_agent.policy, num_eval_episodes)\n",
				"returns = [avg_return]\n",
				"\n",
				"for _ in range(num_iterations):\n",
				"    # collect a few steps using collect_policy and save to the replay buffer\n",
				"    for _ in range(collect_steps_per_iteration):\n",
				"        collect_step(train_env, tf_agent.collect_policy)\n",
				"    \n",
				"    # sample a batch of data from the buffer and update the agent's network\n",
				"    experience, unused_info = next(iterator)\n",
				"    train_loss = tf_agent.train(experience)\n",
				"    \n",
				"    step = tf_agent.train_step_counter.numpy()\n",
				"    \n",
				"    if step % log_interval == 0:\n",
				"        print(f'step = {step}: loss = {train_loss.loss}')\n",
				"        \n",
				"    if step % eval_interval == 0:\n",
				"        avg_return = compute_avg_return(eval_env, tf_agent.policy, num_eval_episodes)\n",
				"        \n",
				"        print(f'step = {step}: Average Return = {avg_return}')\n",
				"        returns.append(avg_return)"
			]
		},
		{
			"cell_type": "markdown",
			"metadata": {
				"colab_type": "text",
				"id": "dG0DY5jTjpo_"
			},
			"source": [
				"## Visualization\n",
				"\n",
				"### Plots\n",
				"\n",
				"We can plot return vs global steps to see the performance of our agent. In `Cartpole-v0`, the environment gives a reward of +1 every time step the pole stays up, and since the maximum number of steps is 200, the maximum possible is also 200."
			]
		},
		{
			"cell_type": "code",
			"execution_count": 37,
			"metadata": {
				"colab": {
					"base_uri": "https://localhost:8080/",
					"height": 300
				},
				"colab_type": "code",
				"id": "RrpGOGG1mN_I",
				"outputId": "70ed3a7a-027c-47ea-927b-dc90f1dd5372"
			},
			"outputs": [
				{
					"data": {
						"text/plain": [
							"(-0.025000000000000355, 250)"
						]
					},
					"execution_count": 37,
					"metadata": {
						"tags": []
					},
					"output_type": "execute_result"
				},
				{
					"data": {
						"image/png": "[encoded data removed]",
						"text/plain": [
							"<Figure size 432x288 with 1 Axes>"
						]
					},
					"metadata": {
						"tags": []
					},
					"output_type": "display_data"
				}
			],
			"source": [
				"#@test {'skip': True}\n",
				"\n",
				"steps = range(0, num_iterations+1, eval_interval)\n",
				"plt.plot(steps, returns)\n",
				"plt.ylabel('Average Return')\n",
				"plt.xlabel('Step')\n",
				"plt.ylim(top=250)"
			]
		},
		{
			"cell_type": "markdown",
			"metadata": {
				"colab_type": "text",
				"id": "RjfU9lJXmf4P"
			},
			"source": [
				"### Videos\n",
				"\n",
				"It is helpful to visualize the performance of an agent by rendering the environment the environment at each step. Before we do that, let us create a function to embed videos in this colab."
			]
		},
		{
			"cell_type": "code",
			"execution_count": 0,
			"metadata": {
				"colab": {},
				"colab_type": "code",
				"id": "PJjpUTZUmuh7"
			},
			"outputs": [],
			"source": [
				"def embed_mp4(filename):\n",
				"    \"\"\"Embeds an mp4 file in the notebook.\"\"\"\n",
				"    video = open(filename, 'rb').read()\n",
				"    b64 = base64.b64encode(video)\n",
				"    tag = f'''\n",
				"    <video width=\"640\" height=\"480\" controls>\n",
				"        <source src=\"data:video/mp4;base64,{b64}\" type=\"video/mp4\">\n",
				"        Your browser does not support the video tag.\n",
				"    </video>\n",
				"    '''\n",
				"    \n",
				"    return IPython.display.HTML(tag)"
			]
		},
		{
			"cell_type": "markdown",
			"metadata": {
				"colab_type": "text",
				"id": "qu_aIKB5nXHC"
			},
			"source": [
				"The following code visualizes the agent's policy for a few episodes:"
			]
		},
		{
			"cell_type": "code",
			"execution_count": 39,
			"metadata": {
				"colab": {
					"base_uri": "https://localhost:8080/",
					"height": 538
				},
				"colab_type": "code",
				"id": "U19U5Dtenb6h",
				"outputId": "59e517ac-dd39-43da-b13b-b5268f194c0a"
			},
			"outputs": [
				{
					"name": "stderr",
					"output_type": "stream",
					"text": [
						"W0706 14:11:05.992955 139627434522496 ffmpeg.py:839] IMAGEIO FFMPEG_WRITER WARNING: input image is not divisible by macro_block_size=16, resizing from (400, 600) to (400, 608) to ensure video compatibility with most codecs and players. To prevent resizing, make your input image divisible by the macro_block_size or set the macro_block_size to None (risking incompatibility). You may also see a FFMPEG warning concerning speedloss due to data not being aligned.\n"
					]
				},
				{
					"data": {
						"text/html": [
							"\n",
							"    <video width=\"640\" height=\"480\" controls>\n",
							"        <source src=\"data:video/mp4;base64,b'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'\" type=\"video/mp4\">\n",
							"        Your browser does not support the video tag.\n",
							"    </video>\n",
							"    "
						],
						"text/plain": [
							"<IPython.core.display.HTML object>"
						]
					},
					"execution_count": 39,
					"metadata": {
						"tags": []
					},
					"output_type": "execute_result"
				}
			],
			"source": [
				"num_episodes = 3\n",
				"video_filename = 'imageio.mp4'\n",
				"with imageio.get_writer(video_filename, fps=60) as video:\n",
				"    for _ in range(num_episodes):\n",
				"        time_step = eval_env.reset()\n",
				"        video.append_data(eval_py_env.render())\n",
				"        while not time_step.is_last():\n",
				"            action_step = tf_agentb.policy.action(time_step)\n",
				"            time_step = eval_env.step(action_step.action)\n",
				"            video.append_data(eval_py_env.render())\n",
				"            \n",
				"embed_mp4(video_filename)"
			]
		},
		{
			"cell_type": "code",
			"execution_count": 0,
			"metadata": {
				"colab": {},
				"colab_type": "code",
				"id": "Nl7YA1C-oP3E"
			},
			"outputs": [],
			"source": [
				"import os"
			]
		},
		{
			"cell_type": "code",
			"execution_count": 41,
			"metadata": {
				"colab": {
					"base_uri": "https://localhost:8080/",
					"height": 34
				},
				"colab_type": "code",
				"id": "y0dSwwJLoRJa",
				"outputId": "626697b4-6c5e-45f1-e303-6730efd81109"
			},
			"outputs": [
				{
					"data": {
						"text/plain": [
							"['.config', 'imageio.mp4', 'sample_data']"
						]
					},
					"execution_count": 41,
					"metadata": {
						"tags": []
					},
					"output_type": "execute_result"
				}
			],
			"source": [
				"os.listdir('.')"
			]
		},
		{
			"cell_type": "code",
			"execution_count": 0,
			"metadata": {
				"colab": {},
				"colab_type": "code",
				"id": "xTjsvO3BoS26"
			},
			"outputs": [],
			"source": [
				"from google.colab import drive"
			]
		},
		{
			"cell_type": "code",
			"execution_count": null,
			"metadata": {
				"colab": {
					"base_uri": "https://localhost:8080/",
					"height": 122
				},
				"colab_type": "code",
				"id": "Db_X0IAzoWIV",
				"outputId": "a842d6f9-3384-4bb3-e563-bfde7d3f9867"
			},
			"outputs": [],
			"source": [
				"drive.mount('/gdriveb')"
			]
		},
		{
			"cell_type": "code",
			"execution_count": 44,
			"metadata": {
				"colab": {
					"base_uri": "https://localhost:8080/",
					"height": 34
				},
				"colab_type": "code",
				"id": "LiUDyjTtohXj",
				"outputId": "564f402c-6394-4b08-e046-ac10f6588b95"
			},
			"outputs": [
				{
					"data": {
						"text/plain": [
							"['Shared drives', 'My Drive', '.Trash']"
						]
					},
					"execution_count": 44,
					"metadata": {
						"tags": []
					},
					"output_type": "execute_result"
				}
			],
			"source": [
				"os.listdir('/gdrive')"
			]
		},
		{
			"cell_type": "code",
			"execution_count": 0,
			"metadata": {
				"colab": {},
				"colab_type": "code",
				"id": "97FzjNZzok3S"
			},
			"outputs": [],
			"source": [
				"import shutil"
			]
		},
		{
			"cell_type": "code",
			"execution_count": 46,
			"metadata": {
				"colab": {
					"base_uri": "https://localhost:8080/",
					"height": 34
				},
				"colab_type": "code",
				"id": "yIU-3kB6ooY9",
				"outputId": "ab8ecaa4-1830-4c23-f84f-3cbc073137e5"
			},
			"outputs": [
				{
					"data": {
						"text/plain": [
							"'/gdrive/My Drive/CartPole-v0_eval.mp4'"
						]
					},
					"execution_count": 46,
					"metadata": {
						"tags": []
					},
					"output_type": "execute_result"
				}
			],
			"source": [
				"shutil.move('imageio.mp4', '/gdrive/My Drive/CartPole-v0_eval.mp4')"
			]
		},
		{
			"cell_type": "markdown",
			"metadata": {},
			"source": [
				"<video src=\"CartPole-v0_eval.mp4\" controls></video>"
			]
		}
	],
	"metadata": {
		"colab": {
			"collapsed_sections": [],
			"name": "01_dqn_tutorial.ipynb",
			"provenance": [],
			"version": "0.3.2"
		},
		"kernelspec": {
			"display_name": "Python 3",
			"language": "python",
			"name": "python3"
		},
		"language_info": {
			"codemirror_mode": {
				"name": "ipython",
				"version": 3
			},
			"file_extension": ".py",
			"mimetype": "text/x-python",
			"name": "python",
			"nbconvert_exporter": "python",
			"pygments_lexer": "ipython3"
		}
	},
	"nbformat": 4,
	"nbformat_minor": 1
}
