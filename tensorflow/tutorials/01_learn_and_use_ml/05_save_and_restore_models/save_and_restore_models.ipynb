{
	"cells": [
		{
			"cell_type": "markdown",
			"metadata": {},
			"source": [
				"Model progress can be saved during-and after-training. This means a model can remuse where it left off and avoid long training times. Saving also means you can share your model and other can recreate your work. When publishing research models and techniques, most machine learning pratitioners share:\n",
				"\n",
				"- code to create the model, and\n",
				"- the trained weights, or parameters, for the model\n",
				"\n",
				"Sharing this data helps others understand how the model works and try it themselves with new data."
			]
		},
		{
			"cell_type": "markdown",
			"metadata": {},
			"source": [
				"## Options\n",
				"\n",
				"These are different ways to save TensorFlow models-depending on the API you're using. This guide uses `tf.keras`, a high-level API to build and train models in TensorFlow. For other approaches, see the TensorFlow [Save and Restore](https://www.tensorflow.org/guide/saved_model) guide or [Saving in eager](https://www.tensorflow.org/guide/eager#object_based_saving)."
			]
		},
		{
			"cell_type": "markdown",
			"metadata": {},
			"source": [
				"## Setup\n",
				"### Install and imports\n",
				"\n",
				"Install and import TensorFlow and dependencies:"
			]
		},
		{
			"cell_type": "code",
			"execution_count": 1,
			"metadata": {},
			"outputs": [],
			"source": [
				"!pip install -q h5py pyyaml"
			]
		},
		{
			"cell_type": "markdown",
			"metadata": {},
			"source": [
				"### Get an example dataset\n",
				"\n",
				"We'll use the [MNIST dataset](http://yann.lecun.com/exdb/mnist/) to train our model to demonstrate saving weights. To speed up these demonstration runs, only use the first 1000 examples:"
			]
		},
		{
			"cell_type": "code",
			"execution_count": 1,
			"metadata": {},
			"outputs": [
				{
					"data": {
						"text/plain": [
							"'1.12.0'"
						]
					},
					"execution_count": 1,
					"metadata": {},
					"output_type": "execute_result"
				}
			],
			"source": [
				"from __future__ import absolute_import, division, print_function\n",
				"\n",
				"import os\n",
				"\n",
				"import tensorflow as tf\n",
				"from tensorflow import keras\n",
				"\n",
				"tf.__version__"
			]
		},
		{
			"cell_type": "code",
			"execution_count": 2,
			"metadata": {},
			"outputs": [],
			"source": [
				"(train_images, train_labels), (test_images, test_labels) = tf.keras.datasets.mnist.load_data()\n",
				"\n",
				"train_labels = train_labels[:1000]\n",
				"test_labels = test_labels[:1000]\n",
				"\n",
				"train_images = train_images[:1000].reshape(-1, 28 * 28) / 255.0\n",
				"test_images = test_images[:1000].reshape(-1, 28 * 28) / 255.0"
			]
		},
		{
			"cell_type": "markdown",
			"metadata": {},
			"source": [
				"### Define a model\n",
				"\n",
				"Let's build a simple model we'll use to demonstrate saving and loading weights."
			]
		},
		{
			"cell_type": "code",
			"execution_count": 3,
			"metadata": {},
			"outputs": [
				{
					"name": "stdout",
					"output_type": "stream",
					"text": [
						"_________________________________________________________________\n",
						"Layer (type)                 Output Shape              Param #   \n",
						"=================================================================\n",
						"dense (Dense)                (None, 512)               401920    \n",
						"_________________________________________________________________\n",
						"dropout (Dropout)            (None, 512)               0         \n",
						"_________________________________________________________________\n",
						"dense_1 (Dense)              (None, 10)                5130      \n",
						"=================================================================\n",
						"Total params: 407,050\n",
						"Trainable params: 407,050\n",
						"Non-trainable params: 0\n",
						"_________________________________________________________________\n"
					]
				}
			],
			"source": [
				"# Returns a short sequential model\n",
				"def create_model():\n",
				"    model = tf.keras.models.Sequential([\n",
				"        keras.layers.Dense(512, activation=tf.nn.relu, input_shape=(784,)),\n",
				"        keras.layers.Dropout(0.2),\n",
				"        keras.layers.Dense(10, activation=tf.nn.softmax)\n",
				"    ])\n",
				"    \n",
				"    model.compile(optimizer='adam',\n",
				"                 loss=tf.keras.losses.sparse_categorical_crossentropy,\n",
				"                 metrics=['accuracy'])\n",
				"    \n",
				"    return model\n",
				"\n",
				"# Create a basic model instance\n",
				"model = create_model()\n",
				"model.summary()"
			]
		},
		{
			"cell_type": "markdown",
			"metadata": {},
			"source": [
				"## Save checkpoints during training\n",
				"---\n",
				"\n",
				"The primary use case is to automatically save checkpoints *during* and at *the end* of training. This way you can use a trained model without having to retrain it, or pick-up training where you left off-in case the training process was interrupted.\n",
				"\n",
				"`tf.keras.callbacks.ModelCheckpoints` is a callback that performs this task. The callback take a couple of arguments to configure checkpointing."
			]
		},
		{
			"cell_type": "markdown",
			"metadata": {},
			"source": [
				"### Checkpoint callback usage\n",
				"\n",
				"Train the model and pass it the `ModelCheckpoint` callback:"
			]
		},
		{
			"cell_type": "code",
			"execution_count": 4,
			"metadata": {
				"scrolled": true
			},
			"outputs": [
				{
					"name": "stdout",
					"output_type": "stream",
					"text": [
						"Train on 1000 samples, validate on 1000 samples\n",
						"Epoch 1/10\n",
						" 992/1000 [============================>.] - ETA: 0s - loss: 1.1361 - acc: 0.6724\n",
						"Epoch 00001: saving model to training_1/cp.ckpt\n",
						"WARNING:tensorflow:This model was compiled with a Keras optimizer (<tensorflow.python.keras.optimizers.Adam object at 0x0000020272862240>) but is being saved in TensorFlow format with `save_weights`. The model's weights will be saved, but unlike with TensorFlow optimizers in the TensorFlow format the optimizer's state will not be saved.\n",
						"\n",
						"Consider using a TensorFlow optimizer from `tf.train`.\n",
						"1000/1000 [==============================] - 1s 1ms/step - loss: 1.1361 - acc: 0.6730 - val_loss: 0.7352 - val_acc: 0.7710\n",
						"Epoch 2/10\n",
						" 992/1000 [============================>.] - ETA: 0s - loss: 0.4189 - acc: 0.8810\n",
						"Epoch 00002: saving model to training_1/cp.ckpt\n",
						"WARNING:tensorflow:This model was compiled with a Keras optimizer (<tensorflow.python.keras.optimizers.Adam object at 0x0000020272862240>) but is being saved in TensorFlow format with `save_weights`. The model's weights will be saved, but unlike with TensorFlow optimizers in the TensorFlow format the optimizer's state will not be saved.\n",
						"\n",
						"Consider using a TensorFlow optimizer from `tf.train`.\n",
						"1000/1000 [==============================] - 1s 669us/step - loss: 0.4185 - acc: 0.8810 - val_loss: 0.5167 - val_acc: 0.8370\n",
						"Epoch 3/10\n",
						" 864/1000 [========================>.....] - ETA: 0s - loss: 0.2851 - acc: 0.9282\n",
						"Epoch 00003: saving model to training_1/cp.ckpt\n",
						"WARNING:tensorflow:This model was compiled with a Keras optimizer (<tensorflow.python.keras.optimizers.Adam object at 0x0000020272862240>) but is being saved in TensorFlow format with `save_weights`. The model's weights will be saved, but unlike with TensorFlow optimizers in the TensorFlow format the optimizer's state will not be saved.\n",
						"\n",
						"Consider using a TensorFlow optimizer from `tf.train`.\n",
						"1000/1000 [==============================] - 1s 664us/step - loss: 0.2842 - acc: 0.9260 - val_loss: 0.4792 - val_acc: 0.8540\n",
						"Epoch 4/10\n",
						" 896/1000 [=========================>....] - ETA: 0s - loss: 0.1871 - acc: 0.9643\n",
						"Epoch 00004: saving model to training_1/cp.ckpt\n",
						"WARNING:tensorflow:This model was compiled with a Keras optimizer (<tensorflow.python.keras.optimizers.Adam object at 0x0000020272862240>) but is being saved in TensorFlow format with `save_weights`. The model's weights will be saved, but unlike with TensorFlow optimizers in the TensorFlow format the optimizer's state will not be saved.\n",
						"\n",
						"Consider using a TensorFlow optimizer from `tf.train`.\n",
						"1000/1000 [==============================] - 1s 655us/step - loss: 0.1981 - acc: 0.9590 - val_loss: 0.4316 - val_acc: 0.8630\n",
						"Epoch 5/10\n",
						" 864/1000 [========================>.....] - ETA: 0s - loss: 0.1472 - acc: 0.9664\n",
						"Epoch 00005: saving model to training_1/cp.ckpt\n",
						"WARNING:tensorflow:This model was compiled with a Keras optimizer (<tensorflow.python.keras.optimizers.Adam object at 0x0000020272862240>) but is being saved in TensorFlow format with `save_weights`. The model's weights will be saved, but unlike with TensorFlow optimizers in the TensorFlow format the optimizer's state will not be saved.\n",
						"\n",
						"Consider using a TensorFlow optimizer from `tf.train`.\n",
						"1000/1000 [==============================] - 1s 708us/step - loss: 0.1480 - acc: 0.9670 - val_loss: 0.4429 - val_acc: 0.8500\n",
						"Epoch 6/10\n",
						" 864/1000 [========================>.....] - ETA: 0s - loss: 0.1139 - acc: 0.9769\n",
						"Epoch 00006: saving model to training_1/cp.ckpt\n",
						"WARNING:tensorflow:This model was compiled with a Keras optimizer (<tensorflow.python.keras.optimizers.Adam object at 0x0000020272862240>) but is being saved in TensorFlow format with `save_weights`. The model's weights will be saved, but unlike with TensorFlow optimizers in the TensorFlow format the optimizer's state will not be saved.\n",
						"\n",
						"Consider using a TensorFlow optimizer from `tf.train`.\n",
						"1000/1000 [==============================] - 1s 694us/step - loss: 0.1121 - acc: 0.9750 - val_loss: 0.4345 - val_acc: 0.8580\n",
						"Epoch 7/10\n",
						" 928/1000 [==========================>...] - ETA: 0s - loss: 0.0904 - acc: 0.9860\n",
						"Epoch 00007: saving model to training_1/cp.ckpt\n",
						"WARNING:tensorflow:This model was compiled with a Keras optimizer (<tensorflow.python.keras.optimizers.Adam object at 0x0000020272862240>) but is being saved in TensorFlow format with `save_weights`. The model's weights will be saved, but unlike with TensorFlow optimizers in the TensorFlow format the optimizer's state will not be saved.\n",
						"\n",
						"Consider using a TensorFlow optimizer from `tf.train`.\n",
						"1000/1000 [==============================] - 1s 689us/step - loss: 0.0935 - acc: 0.9850 - val_loss: 0.4127 - val_acc: 0.8580\n",
						"Epoch 8/10\n",
						" 896/1000 [=========================>....] - ETA: 0s - loss: 0.0653 - acc: 0.9922\n",
						"Epoch 00008: saving model to training_1/cp.ckpt\n",
						"WARNING:tensorflow:This model was compiled with a Keras optimizer (<tensorflow.python.keras.optimizers.Adam object at 0x0000020272862240>) but is being saved in TensorFlow format with `save_weights`. The model's weights will be saved, but unlike with TensorFlow optimizers in the TensorFlow format the optimizer's state will not be saved.\n",
						"\n",
						"Consider using a TensorFlow optimizer from `tf.train`.\n",
						"1000/1000 [==============================] - 1s 688us/step - loss: 0.0681 - acc: 0.9890 - val_loss: 0.4363 - val_acc: 0.8610\n",
						"Epoch 9/10\n",
						" 928/1000 [==========================>...] - ETA: 0s - loss: 0.0513 - acc: 0.9989\n",
						"Epoch 00009: saving model to training_1/cp.ckpt\n",
						"WARNING:tensorflow:This model was compiled with a Keras optimizer (<tensorflow.python.keras.optimizers.Adam object at 0x0000020272862240>) but is being saved in TensorFlow format with `save_weights`. The model's weights will be saved, but unlike with TensorFlow optimizers in the TensorFlow format the optimizer's state will not be saved.\n",
						"\n",
						"Consider using a TensorFlow optimizer from `tf.train`.\n",
						"1000/1000 [==============================] - 1s 687us/step - loss: 0.0500 - acc: 0.9990 - val_loss: 0.4278 - val_acc: 0.8570\n",
						"Epoch 10/10\n",
						" 896/1000 [=========================>....] - ETA: 0s - loss: 0.0376 - acc: 1.0000\n",
						"Epoch 00010: saving model to training_1/cp.ckpt\n",
						"WARNING:tensorflow:This model was compiled with a Keras optimizer (<tensorflow.python.keras.optimizers.Adam object at 0x0000020272862240>) but is being saved in TensorFlow format with `save_weights`. The model's weights will be saved, but unlike with TensorFlow optimizers in the TensorFlow format the optimizer's state will not be saved.\n",
						"\n",
						"Consider using a TensorFlow optimizer from `tf.train`.\n",
						"1000/1000 [==============================] - 1s 695us/step - loss: 0.0369 - acc: 1.0000 - val_loss: 0.4219 - val_acc: 0.8640\n"
					]
				},
				{
					"data": {
						"text/plain": [
							"<tensorflow.python.keras.callbacks.History at 0x20272862048>"
						]
					},
					"execution_count": 4,
					"metadata": {},
					"output_type": "execute_result"
				}
			],
			"source": [
				"checkpoint_path = \"training_1/cp.ckpt\"\n",
				"checkpoint_dir = os.path.dirname(checkpoint_path)\n",
				"\n",
				"# Create checkpoint callback\n",
				"cp_callback = tf.keras.callbacks.ModelCheckpoint(checkpoint_path,\n",
				"                                                save_weights_only=True,\n",
				"                                                verbose=1)\n",
				"\n",
				"model = create_model()\n",
				"\n",
				"model.fit(train_images, train_labels, epochs = 10,\n",
				"         validation_data = (test_images, test_labels),\n",
				"         callbacks = [cp_callback]) # pass callback to training"
			]
		},
		{
			"cell_type": "markdown",
			"metadata": {},
			"source": [
				"This creates a single collection of TensorFlow checkpoint files that are updated at the end of each epoch:"
			]
		},
		{
			"cell_type": "code",
			"execution_count": 5,
			"metadata": {},
			"outputs": [
				{
					"name": "stdout",
					"output_type": "stream",
					"text": [
						"checkpoint\n",
						"cp.ckpt.data-00000-of-00001\n",
						"cp.ckpt.index\n"
					]
				}
			],
			"source": [
				"!ls {checkpoint_dir}"
			]
		},
		{
			"cell_type": "markdown",
			"metadata": {},
			"source": [
				"Create a new, untrained model. When restoring a model from only weights, you must have a model with the same architecture as the original model. Since it's the same model architecture, we can share weights despite that it's different `instance` of the model.\n",
				"\n",
				"Now rebuild a fresh, untrained model, and evaluate it on the test set. An untrained model will perform at chance levels (~10% accuracy):"
			]
		},
		{
			"cell_type": "code",
			"execution_count": 6,
			"metadata": {},
			"outputs": [
				{
					"name": "stdout",
					"output_type": "stream",
					"text": [
						"1000/1000 [==============================] - 0s 228us/step\n",
						"Untrained model, accuracy: 11.20%\n"
					]
				}
			],
			"source": [
				"model = create_model()\n",
				"\n",
				"loss, acc = model.evaluate(test_images, test_labels)\n",
				"print(\"Untrained model, accuracy: {:5.2f}%\".format(100*acc))"
			]
		},
		{
			"cell_type": "markdown",
			"metadata": {},
			"source": [
				"Then load the weights from the checkpoint, and re-evaluate:"
			]
		},
		{
			"cell_type": "code",
			"execution_count": 7,
			"metadata": {},
			"outputs": [
				{
					"name": "stdout",
					"output_type": "stream",
					"text": [
						"1000/1000 [==============================] - 0s 78us/step\n",
						"Restored model, accuracy: 86.40%\n"
					]
				}
			],
			"source": [
				"model.load_weights(checkpoint_path)\n",
				"loss,acc = model.evaluate(test_images, test_labels)\n",
				"print(\"Restored model, accuracy: {:5.2f}%\".format(100*acc))"
			]
		},
		{
			"cell_type": "markdown",
			"metadata": {},
			"source": [
				"### Checkpoint callback options\n",
				"\n",
				"The callback provides several options to give the resulting checkpoints unique names, and adjust the checkpointing frequency.\n",
				"\n",
				"Train a new model, and save uniquely named checkpoints once every 5-epochs:"
			]
		},
		{
			"cell_type": "code",
			"execution_count": 8,
			"metadata": {
				"scrolled": true
			},
			"outputs": [
				{
					"name": "stdout",
					"output_type": "stream",
					"text": [
						"\n",
						"Epoch 00005: saving model to training_2/cp-0005.ckpt\n",
						"WARNING:tensorflow:This model was compiled with a Keras optimizer (<tensorflow.python.keras.optimizers.Adam object at 0x00000202742919E8>) but is being saved in TensorFlow format with `save_weights`. The model's weights will be saved, but unlike with TensorFlow optimizers in the TensorFlow format the optimizer's state will not be saved.\n",
						"\n",
						"Consider using a TensorFlow optimizer from `tf.train`.\n",
						"\n",
						"Epoch 00010: saving model to training_2/cp-0010.ckpt\n",
						"WARNING:tensorflow:This model was compiled with a Keras optimizer (<tensorflow.python.keras.optimizers.Adam object at 0x00000202742919E8>) but is being saved in TensorFlow format with `save_weights`. The model's weights will be saved, but unlike with TensorFlow optimizers in the TensorFlow format the optimizer's state will not be saved.\n",
						"\n",
						"Consider using a TensorFlow optimizer from `tf.train`.\n",
						"\n",
						"Epoch 00015: saving model to training_2/cp-0015.ckpt\n",
						"WARNING:tensorflow:This model was compiled with a Keras optimizer (<tensorflow.python.keras.optimizers.Adam object at 0x00000202742919E8>) but is being saved in TensorFlow format with `save_weights`. The model's weights will be saved, but unlike with TensorFlow optimizers in the TensorFlow format the optimizer's state will not be saved.\n",
						"\n",
						"Consider using a TensorFlow optimizer from `tf.train`.\n",
						"\n",
						"Epoch 00020: saving model to training_2/cp-0020.ckpt\n",
						"WARNING:tensorflow:This model was compiled with a Keras optimizer (<tensorflow.python.keras.optimizers.Adam object at 0x00000202742919E8>) but is being saved in TensorFlow format with `save_weights`. The model's weights will be saved, but unlike with TensorFlow optimizers in the TensorFlow format the optimizer's state will not be saved.\n",
						"\n",
						"Consider using a TensorFlow optimizer from `tf.train`.\n",
						"\n",
						"Epoch 00025: saving model to training_2/cp-0025.ckpt\n",
						"WARNING:tensorflow:This model was compiled with a Keras optimizer (<tensorflow.python.keras.optimizers.Adam object at 0x00000202742919E8>) but is being saved in TensorFlow format with `save_weights`. The model's weights will be saved, but unlike with TensorFlow optimizers in the TensorFlow format the optimizer's state will not be saved.\n",
						"\n",
						"Consider using a TensorFlow optimizer from `tf.train`.\n",
						"\n",
						"Epoch 00030: saving model to training_2/cp-0030.ckpt\n",
						"WARNING:tensorflow:This model was compiled with a Keras optimizer (<tensorflow.python.keras.optimizers.Adam object at 0x00000202742919E8>) but is being saved in TensorFlow format with `save_weights`. The model's weights will be saved, but unlike with TensorFlow optimizers in the TensorFlow format the optimizer's state will not be saved.\n",
						"\n",
						"Consider using a TensorFlow optimizer from `tf.train`.\n",
						"\n",
						"Epoch 00035: saving model to training_2/cp-0035.ckpt\n",
						"WARNING:tensorflow:This model was compiled with a Keras optimizer (<tensorflow.python.keras.optimizers.Adam object at 0x00000202742919E8>) but is being saved in TensorFlow format with `save_weights`. The model's weights will be saved, but unlike with TensorFlow optimizers in the TensorFlow format the optimizer's state will not be saved.\n",
						"\n",
						"Consider using a TensorFlow optimizer from `tf.train`.\n",
						"\n",
						"Epoch 00040: saving model to training_2/cp-0040.ckpt\n",
						"WARNING:tensorflow:This model was compiled with a Keras optimizer (<tensorflow.python.keras.optimizers.Adam object at 0x00000202742919E8>) but is being saved in TensorFlow format with `save_weights`. The model's weights will be saved, but unlike with TensorFlow optimizers in the TensorFlow format the optimizer's state will not be saved.\n",
						"\n",
						"Consider using a TensorFlow optimizer from `tf.train`.\n",
						"\n",
						"Epoch 00045: saving model to training_2/cp-0045.ckpt\n",
						"WARNING:tensorflow:This model was compiled with a Keras optimizer (<tensorflow.python.keras.optimizers.Adam object at 0x00000202742919E8>) but is being saved in TensorFlow format with `save_weights`. The model's weights will be saved, but unlike with TensorFlow optimizers in the TensorFlow format the optimizer's state will not be saved.\n",
						"\n",
						"Consider using a TensorFlow optimizer from `tf.train`.\n",
						"\n",
						"Epoch 00050: saving model to training_2/cp-0050.ckpt\n",
						"WARNING:tensorflow:This model was compiled with a Keras optimizer (<tensorflow.python.keras.optimizers.Adam object at 0x00000202742919E8>) but is being saved in TensorFlow format with `save_weights`. The model's weights will be saved, but unlike with TensorFlow optimizers in the TensorFlow format the optimizer's state will not be saved.\n",
						"\n",
						"Consider using a TensorFlow optimizer from `tf.train`.\n"
					]
				},
				{
					"data": {
						"text/plain": [
							"<tensorflow.python.keras.callbacks.History at 0x20272094710>"
						]
					},
					"execution_count": 8,
					"metadata": {},
					"output_type": "execute_result"
				}
			],
			"source": [
				"# include the epoch in the file name. (uses `str.format`)\n",
				"checkpoint_path = \"training_2/cp-{epoch:04d}.ckpt\"\n",
				"checkpoint_dir = os.path.dirname(checkpoint_path)\n",
				"\n",
				"cp_callback = tf.keras.callbacks.ModelCheckpoint(\n",
				"    checkpoint_path, verbose=1, save_weights_only=True,\n",
				"    # Save weights, every 5-epochs.\n",
				"    period=5)\n",
				"\n",
				"model = create_model()\n",
				"model.fit(train_images, train_labels,\n",
				"         epochs = 50, callbacks = [cp_callback],\n",
				"         validation_data = (test_images, test_labels),\n",
				"         verbose=0)"
			]
		},
		{
			"cell_type": "markdown",
			"metadata": {},
			"source": [
				"Now, look at the resulting checkpoints and choose the latest one:"
			]
		},
		{
			"cell_type": "code",
			"execution_count": 9,
			"metadata": {},
			"outputs": [
				{
					"name": "stdout",
					"output_type": "stream",
					"text": [
						"checkpoint\n",
						"cp-0005.ckpt.data-00000-of-00001\n",
						"cp-0005.ckpt.index\n",
						"cp-0010.ckpt.data-00000-of-00001\n",
						"cp-0010.ckpt.index\n",
						"cp-0015.ckpt.data-00000-of-00001\n",
						"cp-0015.ckpt.index\n",
						"cp-0020.ckpt.data-00000-of-00001\n",
						"cp-0020.ckpt.index\n",
						"cp-0025.ckpt.data-00000-of-00001\n",
						"cp-0025.ckpt.index\n",
						"cp-0030.ckpt.data-00000-of-00001\n",
						"cp-0030.ckpt.index\n",
						"cp-0035.ckpt.data-00000-of-00001\n",
						"cp-0035.ckpt.index\n",
						"cp-0040.ckpt.data-00000-of-00001\n",
						"cp-0040.ckpt.index\n",
						"cp-0045.ckpt.data-00000-of-00001\n",
						"cp-0045.ckpt.index\n",
						"cp-0050.ckpt.data-00000-of-00001\n",
						"cp-0050.ckpt.index\n"
					]
				}
			],
			"source": [
				"!ls {checkpoint_dir}"
			]
		},
		{
			"cell_type": "code",
			"execution_count": 10,
			"metadata": {},
			"outputs": [
				{
					"data": {
						"text/plain": [
							"'training_2\\\\cp-0050.ckpt'"
						]
					},
					"execution_count": 10,
					"metadata": {},
					"output_type": "execute_result"
				}
			],
			"source": [
				"latest = tf.train.latest_checkpoint(checkpoint_dir)\n",
				"latest"
			]
		},
		{
			"cell_type": "markdown",
			"metadata": {},
			"source": [
				"* Note: the default tensorflow format only saves the 5 most recent checkpoints.\n",
				"\n",
				"To test, reset the model and load the latest checkpoint:"
			]
		},
		{
			"cell_type": "code",
			"execution_count": 11,
			"metadata": {},
			"outputs": [
				{
					"name": "stdout",
					"output_type": "stream",
					"text": [
						"1000/1000 [==============================] - 0s 197us/step\n",
						"Restored model, accuracy: 87.30%\n"
					]
				}
			],
			"source": [
				"model = create_model()\n",
				"model.load_weights(latest)\n",
				"loss, acc = model.evaluate(test_images, test_labels)\n",
				"print(\"Restored model, accuracy: {:5.2f}%\".format(100*acc))"
			]
		},
		{
			"cell_type": "markdown",
			"metadata": {},
			"source": [
				"## What are these files?\n",
				"---\n",
				"\n",
				"The above code stores the weights to a collection of [checkpoint](https://www.tensorflow.org/guide/saved_model#save_and_restore_variables)-formatted files that contain only the trained weights in a binary format. Checkpoints contain:\n",
				"    * One or more shards that contain your model's weights.\n",
				"    * An index file that indicates which weights are stored in a which shard.\n",
				"    \n",
				"If you are only training a model on a single machine, you'll have one shard with the suffix: `.data-00000-of-00001`"
			]
		},
		{
			"cell_type": "markdown",
			"metadata": {},
			"source": [
				"## Manually save weights\n",
				"---\n",
				"\n",
				"Above you saw how to load the weights into a model.\n",
				"\n",
				"Manually saving the weights is just as simple, use the `Model.save_weights` method."
			]
		},
		{
			"cell_type": "code",
			"execution_count": 12,
			"metadata": {},
			"outputs": [
				{
					"name": "stdout",
					"output_type": "stream",
					"text": [
						"WARNING:tensorflow:This model was compiled with a Keras optimizer (<tensorflow.python.keras.optimizers.Adam object at 0x0000020275335240>) but is being saved in TensorFlow format with `save_weights`. The model's weights will be saved, but unlike with TensorFlow optimizers in the TensorFlow format the optimizer's state will not be saved.\n",
						"\n",
						"Consider using a TensorFlow optimizer from `tf.train`.\n",
						"1000/1000 [==============================] - 0s 199us/step\n",
						"Restored model, accuracy: 87.30%\n"
					]
				}
			],
			"source": [
				"# Save the weights\n",
				"model.save_weights('./checkpoints/my_checkpoint')\n",
				"\n",
				"# Restore the weights\n",
				"model = create_model()\n",
				"model.load_weights('./checkpoints/my_checkpoint')\n",
				"\n",
				"loss,acc = model.evaluate(test_images,test_labels)\n",
				"print(\"Restored model, accuracy: {:5.2f}%\".format(100*acc))"
			]
		},
		{
			"cell_type": "markdown",
			"metadata": {},
			"source": [
				"## Save the entire model\n",
				"---\n",
				"\n",
				"The entire model can be saved to a file that contains the weight values, the model's configuration, and even the optimizer's configuration (depends on set up). This allows you to checkpoint a model and resume training later-from the exact same state-without access to the original code.\n",
				"\n",
				"Saving a fully-functional model is very useful-you can load them in TensorFlow.js ([HDF5](https://js.tensorflow.org/tutorials/import-keras.html), [Saved Model](https://js.tensorflow.org/tutorials/import-saved-model.html)) and then train and run them in web browsers, or convert them to run on mobile devices using TensorFlow Lite([HDF5](https://www.tensorflow.org/lite/convert/python_api#exporting_a_tfkeras_file_), [Saved Model](https://www.tensorflow.org/lite/convert/python_api#exporting_a_savedmodel_))"
			]
		},
		{
			"cell_type": "markdown",
			"metadata": {},
			"source": [
				"### As an HDF5 file\n",
				"\n",
				"Keras provides a basic save format using the [HDF5](https://en.wikipedia.org/wiki/Hierarchical_Data_Format) standard. For our purposes, the saved model can be treated as a single binary blob."
			]
		},
		{
			"cell_type": "code",
			"execution_count": 13,
			"metadata": {},
			"outputs": [
				{
					"name": "stdout",
					"output_type": "stream",
					"text": [
						"Epoch 1/5\n",
						"1000/1000 [==============================] - 1s 934us/step - loss: 1.1759 - acc: 0.6630\n",
						"Epoch 2/5\n",
						"1000/1000 [==============================] - 0s 380us/step - loss: 0.4111 - acc: 0.8830\n",
						"Epoch 3/5\n",
						"1000/1000 [==============================] - 0s 397us/step - loss: 0.2931 - acc: 0.9210\n",
						"Epoch 4/5\n",
						"1000/1000 [==============================] - 0s 383us/step - loss: 0.2203 - acc: 0.9520\n",
						"Epoch 5/5\n",
						"1000/1000 [==============================] - 0s 377us/step - loss: 0.1606 - acc: 0.9630\n"
					]
				}
			],
			"source": [
				"model = create_model()\n",
				"\n",
				"# You need to use a keras.optimizer to restore the optimizer state from an HDF5 file.\n",
				"model.compile(optimizer='adam',\n",
				"             loss=tf.keras.losses.sparse_categorical_crossentropy,\n",
				"             metrics=['accuracy'])\n",
				"\n",
				"model.fit(train_images,train_labels,epochs=5)\n",
				"\n",
				"# Save entire model to a HDF5 file\n",
				"model.save('my_model.h5')"
			]
		},
		{
			"cell_type": "markdown",
			"metadata": {},
			"source": [
				"Now recreate the model from that file:"
			]
		},
		{
			"cell_type": "code",
			"execution_count": 15,
			"metadata": {},
			"outputs": [
				{
					"name": "stdout",
					"output_type": "stream",
					"text": [
						"_________________________________________________________________\n",
						"Layer (type)                 Output Shape              Param #   \n",
						"=================================================================\n",
						"dense_12 (Dense)             (None, 512)               401920    \n",
						"_________________________________________________________________\n",
						"dropout_6 (Dropout)          (None, 512)               0         \n",
						"_________________________________________________________________\n",
						"dense_13 (Dense)             (None, 10)                5130      \n",
						"=================================================================\n",
						"Total params: 407,050\n",
						"Trainable params: 407,050\n",
						"Non-trainable params: 0\n",
						"_________________________________________________________________\n"
					]
				}
			],
			"source": [
				"# Recreate the exact same model, including weights and optimizer.\n",
				"new_model = keras.models.load_model('my_model.h5')\n",
				"new_model.summary()"
			]
		},
		{
			"cell_type": "markdown",
			"metadata": {},
			"source": [
				"Check its accuracy:"
			]
		},
		{
			"cell_type": "code",
			"execution_count": 16,
			"metadata": {},
			"outputs": [
				{
					"name": "stdout",
					"output_type": "stream",
					"text": [
						"1000/1000 [==============================] - 0s 234us/step\n",
						"Restored model, accuracy: 86.30%\n"
					]
				}
			],
			"source": [
				"loss,acc = new_model.evaluate(test_images, test_labels)\n",
				"print(\"Restored model, accuracy: {:5.2f}%\".format(100*acc))"
			]
		},
		{
			"cell_type": "markdown",
			"metadata": {},
			"source": [
				"This techniques saves everything:\n",
				"\n",
				"- The weight values\n",
				"- The model's configuration (architecture)\n",
				"- The optimizer configuration\n",
				"\n",
				"Keras saves models by inspecting the architecture. Currently, it is not able to save TensorFlow optimizers (from [`tf.train`](https://www.tensorflow.org/api_docs/python/tf/train). When using those you will need to re-compile the model after loading, and you will loose the state of the optimizer."
			]
		},
		{
			"cell_type": "markdown",
			"metadata": {},
			"source": [
				"### As a `saved_model`\n",
				"\n",
				"Build a fresh model:"
			]
		},
		{
			"cell_type": "code",
			"execution_count": 17,
			"metadata": {},
			"outputs": [
				{
					"name": "stdout",
					"output_type": "stream",
					"text": [
						"Epoch 1/5\n",
						"1000/1000 [==============================] - 1s 1ms/step - loss: 1.2236 - acc: 0.6340\n",
						"Epoch 2/5\n",
						"1000/1000 [==============================] - 0s 415us/step - loss: 0.4371 - acc: 0.8800\n",
						"Epoch 3/5\n",
						"1000/1000 [==============================] - 0s 396us/step - loss: 0.2854 - acc: 0.9290\n",
						"Epoch 4/5\n",
						"1000/1000 [==============================] - 0s 390us/step - loss: 0.2198 - acc: 0.9480\n",
						"Epoch 5/5\n",
						"1000/1000 [==============================] - 0s 393us/step - loss: 0.1543 - acc: 0.9630\n"
					]
				},
				{
					"data": {
						"text/plain": [
							"<tensorflow.python.keras.callbacks.History at 0x20278d78c50>"
						]
					},
					"execution_count": 17,
					"metadata": {},
					"output_type": "execute_result"
				}
			],
			"source": [
				"model = create_model()\n",
				"\n",
				"model.fit(train_images, train_labels, epochs=5)"
			]
		},
		{
			"cell_type": "markdown",
			"metadata": {},
			"source": [
				"Create a `saved_model`:"
			]
		},
		{
			"cell_type": "code",
			"execution_count": 18,
			"metadata": {},
			"outputs": [
				{
					"ename": "NotFoundError",
					"evalue": "Failed to create a directory: ./saved_models\\temp-b'1548037927'; No such file or directory",
					"output_type": "error",
					"traceback": [
						"\u001b[1;31m---------------------------------------------------------------------------\u001b[0m",
						"\u001b[1;31mNotFoundError\u001b[0m                             Traceback (most recent call last)",
						"\u001b[1;32m<ipython-input-18-a6760c6e5610>\u001b[0m in \u001b[0;36m<module>\u001b[1;34m\u001b[0m\n\u001b[1;32m----> 1\u001b[1;33m \u001b[0msaved_model_path\u001b[0m \u001b[1;33m=\u001b[0m \u001b[0mtf\u001b[0m\u001b[1;33m.\u001b[0m\u001b[0mcontrib\u001b[0m\u001b[1;33m.\u001b[0m\u001b[0msaved_model\u001b[0m\u001b[1;33m.\u001b[0m\u001b[0msave_keras_model\u001b[0m\u001b[1;33m(\u001b[0m\u001b[0mmodel\u001b[0m\u001b[1;33m,\u001b[0m \u001b[1;34m\"./saved_models\"\u001b[0m\u001b[1;33m)\u001b[0m\u001b[1;33m\u001b[0m\u001b[0m\n\u001b[0m",
						"\u001b[1;32mc:\\users\\shioko\\appdata\\local\\programs\\python\\python35\\lib\\site-packages\\tensorflow\\contrib\\saved_model\\python\\saved_model\\keras_saved_model.py\u001b[0m in \u001b[0;36msave_keras_model\u001b[1;34m(model, saved_model_path, custom_objects, as_text)\u001b[0m\n\u001b[0;32m     94\u001b[0m   \u001b[0mtemp_export_dir\u001b[0m \u001b[1;33m=\u001b[0m \u001b[0mexport_helpers\u001b[0m\u001b[1;33m.\u001b[0m\u001b[0mget_temp_export_dir\u001b[0m\u001b[1;33m(\u001b[0m\u001b[0mexport_dir\u001b[0m\u001b[1;33m)\u001b[0m\u001b[1;33m\u001b[0m\u001b[0m\n\u001b[0;32m     95\u001b[0m \u001b[1;33m\u001b[0m\u001b[0m\n\u001b[1;32m---> 96\u001b[1;33m   \u001b[0mbuilder\u001b[0m \u001b[1;33m=\u001b[0m \u001b[0msaved_model_builder\u001b[0m\u001b[1;33m.\u001b[0m\u001b[0mSavedModelBuilder\u001b[0m\u001b[1;33m(\u001b[0m\u001b[0mtemp_export_dir\u001b[0m\u001b[1;33m)\u001b[0m\u001b[1;33m\u001b[0m\u001b[0m\n\u001b[0m\u001b[0;32m     97\u001b[0m \u001b[1;33m\u001b[0m\u001b[0m\n\u001b[0;32m     98\u001b[0m   \u001b[1;31m# Manually save variables to export them in an object-based checkpoint. This\u001b[0m\u001b[1;33m\u001b[0m\u001b[1;33m\u001b[0m\u001b[0m\n",
						"\u001b[1;32mc:\\users\\shioko\\appdata\\local\\programs\\python\\python35\\lib\\site-packages\\tensorflow\\python\\saved_model\\builder_impl.py\u001b[0m in \u001b[0;36m__init__\u001b[1;34m(self, export_dir)\u001b[0m\n\u001b[0;32m     95\u001b[0m           \"directory: %s\" % export_dir)\n\u001b[0;32m     96\u001b[0m \u001b[1;33m\u001b[0m\u001b[0m\n\u001b[1;32m---> 97\u001b[1;33m     \u001b[0mfile_io\u001b[0m\u001b[1;33m.\u001b[0m\u001b[0mrecursive_create_dir\u001b[0m\u001b[1;33m(\u001b[0m\u001b[0mself\u001b[0m\u001b[1;33m.\u001b[0m\u001b[0m_export_dir\u001b[0m\u001b[1;33m)\u001b[0m\u001b[1;33m\u001b[0m\u001b[0m\n\u001b[0m\u001b[0;32m     98\u001b[0m \u001b[1;33m\u001b[0m\u001b[0m\n\u001b[0;32m     99\u001b[0m     \u001b[1;31m# Boolean to track whether variables and assets corresponding to the\u001b[0m\u001b[1;33m\u001b[0m\u001b[1;33m\u001b[0m\u001b[0m\n",
						"\u001b[1;32mc:\\users\\shioko\\appdata\\local\\programs\\python\\python35\\lib\\site-packages\\tensorflow\\python\\lib\\io\\file_io.py\u001b[0m in \u001b[0;36mrecursive_create_dir\u001b[1;34m(dirname)\u001b[0m\n\u001b[0;32m    377\u001b[0m   \"\"\"\n\u001b[0;32m    378\u001b[0m   \u001b[1;32mwith\u001b[0m \u001b[0merrors\u001b[0m\u001b[1;33m.\u001b[0m\u001b[0mraise_exception_on_not_ok_status\u001b[0m\u001b[1;33m(\u001b[0m\u001b[1;33m)\u001b[0m \u001b[1;32mas\u001b[0m \u001b[0mstatus\u001b[0m\u001b[1;33m:\u001b[0m\u001b[1;33m\u001b[0m\u001b[0m\n\u001b[1;32m--> 379\u001b[1;33m     \u001b[0mpywrap_tensorflow\u001b[0m\u001b[1;33m.\u001b[0m\u001b[0mRecursivelyCreateDir\u001b[0m\u001b[1;33m(\u001b[0m\u001b[0mcompat\u001b[0m\u001b[1;33m.\u001b[0m\u001b[0mas_bytes\u001b[0m\u001b[1;33m(\u001b[0m\u001b[0mdirname\u001b[0m\u001b[1;33m)\u001b[0m\u001b[1;33m,\u001b[0m \u001b[0mstatus\u001b[0m\u001b[1;33m)\u001b[0m\u001b[1;33m\u001b[0m\u001b[0m\n\u001b[0m\u001b[0;32m    380\u001b[0m \u001b[1;33m\u001b[0m\u001b[0m\n\u001b[0;32m    381\u001b[0m \u001b[1;33m\u001b[0m\u001b[0m\n",
						"\u001b[1;32mc:\\users\\shioko\\appdata\\local\\programs\\python\\python35\\lib\\site-packages\\tensorflow\\python\\framework\\errors_impl.py\u001b[0m in \u001b[0;36m__exit__\u001b[1;34m(self, type_arg, value_arg, traceback_arg)\u001b[0m\n\u001b[0;32m    526\u001b[0m             \u001b[1;32mNone\u001b[0m\u001b[1;33m,\u001b[0m \u001b[1;32mNone\u001b[0m\u001b[1;33m,\u001b[0m\u001b[1;33m\u001b[0m\u001b[0m\n\u001b[0;32m    527\u001b[0m             \u001b[0mcompat\u001b[0m\u001b[1;33m.\u001b[0m\u001b[0mas_text\u001b[0m\u001b[1;33m(\u001b[0m\u001b[0mc_api\u001b[0m\u001b[1;33m.\u001b[0m\u001b[0mTF_Message\u001b[0m\u001b[1;33m(\u001b[0m\u001b[0mself\u001b[0m\u001b[1;33m.\u001b[0m\u001b[0mstatus\u001b[0m\u001b[1;33m.\u001b[0m\u001b[0mstatus\u001b[0m\u001b[1;33m)\u001b[0m\u001b[1;33m)\u001b[0m\u001b[1;33m,\u001b[0m\u001b[1;33m\u001b[0m\u001b[0m\n\u001b[1;32m--> 528\u001b[1;33m             c_api.TF_GetCode(self.status.status))\n\u001b[0m\u001b[0;32m    529\u001b[0m     \u001b[1;31m# Delete the underlying status object from memory otherwise it stays alive\u001b[0m\u001b[1;33m\u001b[0m\u001b[1;33m\u001b[0m\u001b[0m\n\u001b[0;32m    530\u001b[0m     \u001b[1;31m# as there is a reference to status from this from the traceback due to\u001b[0m\u001b[1;33m\u001b[0m\u001b[1;33m\u001b[0m\u001b[0m\n",
						"\u001b[1;31mNotFoundError\u001b[0m: Failed to create a directory: ./saved_models\\temp-b'1548037927'; No such file or directory"
					]
				}
			],
			"source": [
				"saved_model_path = tf.contrib.saved_model.save_keras_model(model, \"./saved_models\")"
			]
		}
	],
	"metadata": {
		"kernelspec": {
			"display_name": "Python 3",
			"language": "python",
			"name": "python3"
		},
		"language_info": {
			"codemirror_mode": {
				"name": "ipython",
				"version": 3
			},
			"file_extension": ".py",
			"mimetype": "text/x-python",
			"name": "python",
			"nbconvert_exporter": "python",
			"pygments_lexer": "ipython3"
		}
	},
	"nbformat": 4,
	"nbformat_minor": 2
}
