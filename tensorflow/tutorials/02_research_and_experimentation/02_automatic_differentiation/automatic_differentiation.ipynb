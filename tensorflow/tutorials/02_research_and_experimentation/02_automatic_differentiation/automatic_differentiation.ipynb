{
	"cells": [
		{
			"cell_type": "markdown",
			"metadata": {},
			"source": [
				"# Automatic differentiation and gradient tape\n",
				"\n",
				"- In the previous tutorial we introduced `Tensor`s and operations on them. In this tutorial we will cover [automatic differentiation](https://en.wikipedia.org/wiki/Automatic_differentiation), a key technique for optimizing machine learning models.\n",
				"\n",
				"## Setup"
			]
		},
		{
			"cell_type": "code",
			"execution_count": 1,
			"metadata": {},
			"outputs": [],
			"source": [
				"import tensorflow as tf\n",
				"\n",
				"tf.enable_eager_execution()"
			]
		},
		{
			"cell_type": "markdown",
			"metadata": {},
			"source": [
				"## Gradient tapes\n",
				"\n",
				"- TensorFlow provides the [tf.GradientTape](https://www.tensorflow.org/api_docs/python/tf/GradientTape) API for automatic differentiation - computing the gradient of a computation with respect to its input variables. Tensorflow \"records\" all operations executed inside the context of a `tf.GradientTape` onto a \"tape\". Tensorflow then uses that tape and the gradients associated with each recorded operation to compute the gradients of a \"recorded\" computation using [reverse mode differentiation](https://en.wikipedia.org/wiki/Automatic_differentiation).\n",
				"\n",
				"- For example:"
			]
		},
		{
			"cell_type": "code",
			"execution_count": 2,
			"metadata": {},
			"outputs": [],
			"source": [
				"x = tf.ones((2, 2))\n",
				"\n",
				"with tf.GradientTape() as t:\n",
				"    t.watch(x)\n",
				"    y = tf.reduce_sum(x)\n",
				"    z = tf.multiply(y, y)\n",
				"    \n",
				"# Derivative of z with respect to the original input tensor x\n",
				"dz_dx = t.gradient(z, x)\n",
				"for i in [0, 1]:\n",
				"    for j in [0, 1]:\n",
				"        assert dz_dx[i][j].numpy() == 8.0"
			]
		},
		{
			"cell_type": "markdown",
			"metadata": {},
			"source": [
				"- You can also request gradients of the output with respect to intermediate values computed using a \"recorded\" `tf.GradientTape` context."
			]
		},
		{
			"cell_type": "code",
			"execution_count": 3,
			"metadata": {},
			"outputs": [],
			"source": [
				"x = tf.ones((2,2))\n",
				"\n",
				"with tf.GradientTape() as t:\n",
				"    t.watch(x)\n",
				"    y = tf.reduce_sum(x)\n",
				"    z = tf.multiply(y, y)\n",
				"    \n",
				"# Use the tape to compute the derivative of z with respect to the intermediate value y\n",
				"dz_dy = t.gradient(z, y)\n",
				"assert dz_dy.numpy() == 8.0"
			]
		},
		{
			"cell_type": "markdown",
			"metadata": {},
			"source": [
				"- By default, the resources held by a GradientTape are released as soon as `GradientTape.gradient()` method is called. To compute multiple gradients over the same computation, create a `persistent` gradient tape. This allows multiple calls to the `gradient()` method. As resources are released when the tape object is garbage collected. For example:"
			]
		},
		{
			"cell_type": "code",
			"execution_count": 4,
			"metadata": {},
			"outputs": [
				{
					"name": "stdout",
					"output_type": "stream",
					"text": [
						"tf.Tensor(108.0, shape=(), dtype=float32)\n",
						"tf.Tensor(6.0, shape=(), dtype=float32)\n"
					]
				}
			],
			"source": [
				"x = tf.constant(3.0)\n",
				"with tf.GradientTape(persistent=True) as t:\n",
				"    t.watch(x)\n",
				"    y = x * x\n",
				"    z = y * y\n",
				"dz_dx = t.gradient(z, x)\n",
				"dy_dx = t.gradient(y, x)\n",
				"\n",
				"print(dz_dx)\n",
				"print(dy_dx)\n",
				"\n",
				"del t # Drop the reference to the tape"
			]
		},
		{
			"cell_type": "markdown",
			"metadata": {},
			"source": [
				"### Recording control flow\n",
				"\n",
				"- Because tapes record operations as they are executed, Python control flow (using `if`s and `while`s for example) is naturally handled:"
			]
		},
		{
			"cell_type": "code",
			"execution_count": 7,
			"metadata": {},
			"outputs": [],
			"source": [
				"def f(x, y):\n",
				"    output = 1.0\n",
				"    for i in range(y):\n",
				"        if i > 1 and i < 5:\n",
				"            output = tf.multiply(output, x)\n",
				"    return output\n",
				"\n",
				"def grad(x, y):\n",
				"    with tf.GradientTape() as t:\n",
				"        t.watch(x)\n",
				"        out = f(x, y)\n",
				"    return t.gradient(out, x)\n",
				"\n",
				"x = tf.convert_to_tensor(2.0)\n",
				"\n",
				"assert grad(x, 6).numpy() == 12.0\n",
				"assert grad(x, 5).numpy() == 12.0\n",
				"assert grad(x, 4).numpy() == 4.0"
			]
		},
		{
			"cell_type": "markdown",
			"metadata": {},
			"source": [
				"### Higher-order gradients\n",
				"\n",
				"- Operations inside of the `GradientTape` context manager are recorded for automatic differentiation. If gradients are computed in that context, then the gradient computation is recorded as well. As a result, the exact same API works for higher-order gradients as well. For example:"
			]
		},
		{
			"cell_type": "code",
			"execution_count": 8,
			"metadata": {},
			"outputs": [
				{
					"name": "stdout",
					"output_type": "stream",
					"text": [
						"WARNING:tensorflow:From c:\\users\\shioko\\appdata\\local\\programs\\python\\python37\\lib\\site-packages\\tensorflow\\python\\ops\\resource_variable_ops.py:642: colocate_with (from tensorflow.python.framework.ops) is deprecated and will be removed in a future version.\n",
						"Instructions for updating:\n",
						"Colocations handled automatically by placer.\n"
					]
				}
			],
			"source": [
				"x = tf.Variable(1.0) # Create a TensorFlow variable initialized to 1.0\n",
				"\n",
				"with tf.GradientTape() as t:\n",
				"    with tf.GradientTape() as t2:\n",
				"        y = x * x * x\n",
				"    # Compute the gradient insode the 't' context manager\n",
				"    # which means the gradient computation is differentiable as well\n",
				"    dy_dx = t2.gradient(y, x)\n",
				"d2y_dx2 = t.gradient(dy_dx, x)\n",
				"\n",
				"assert dy_dx.numpy() == 3.0\n",
				"assert d2y_dx2.numpy() == 6.0"
			]
		},
		{
			"cell_type": "markdown",
			"metadata": {},
			"source": [
				"## Next Steps\n",
				"\n",
				"- In this tutorial we covered gradient computation in TensorFlow. With that we have enough of the primitives required to build and train neural networks."
			]
		}
	],
	"metadata": {
		"kernelspec": {
			"display_name": "Python 3",
			"language": "python",
			"name": "python3"
		},
		"language_info": {
			"codemirror_mode": {
				"name": "ipython",
				"version": 3
			},
			"file_extension": ".py",
			"mimetype": "text/x-python",
			"name": "python",
			"nbconvert_exporter": "python",
			"pygments_lexer": "ipython3"
		}
	},
	"nbformat": 4,
	"nbformat_minor": 2
}
