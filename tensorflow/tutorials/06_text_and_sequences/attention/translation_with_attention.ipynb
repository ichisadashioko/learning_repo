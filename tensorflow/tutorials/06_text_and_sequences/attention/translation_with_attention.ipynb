{
	"cells": [
		{
			"cell_type": "markdown",
			"metadata": {},
			"source": [
				"# [Neural Machine Translation with Attention](https://www.tensorflow.org/beta/tutorials/text/nmt_with_attention)\n",
				"\n",
				"This notebook trains a sequence to sequence (seq2seq) model for Spanish to English translation. This is an advanced example that assumes some knowledge of sequence to sequence models.\n",
				"\n",
				"After training the model in this notebook, you will be able to input a Spanish sentence, such as *\"¿todavia estan en casa?\"*, and return the English translation: *\"are you still at home?\"*\n",
				"\n",
				"The translation quality is reasonable for a toy example, but the generated attention plot is perhaps more interesting. This shows which parts of the input sentence has the model's attention while translating:\n",
				"\n",
				"![](spanish-english.png)"
			]
		},
		{
			"cell_type": "code",
			"execution_count": 1,
			"metadata": {},
			"outputs": [],
			"source": [
				"from __future__ import absolute_import, division, print_function, unicode_literals\n",
				"import os\n",
				"import io\n",
				"import time\n",
				"import unicodedata\n",
				"import re\n",
				"\n",
				"# !pip install -q tensorflow-gpu==2.0.0-beta1\n",
				"import tensorflow as tf\n",
				"\n",
				"import numpy as np\n",
				"import matplotlib.pyplot as plt\n",
				"from sklearn.model_selection import train_test_split"
			]
		},
		{
			"cell_type": "markdown",
			"metadata": {},
			"source": [
				"## Download and prepare the dataset\n",
				"\n",
				"We'll use a language dataset provided by [http://www.manythings.org/anki/](http://www.manythings.org/anki/). This dataset contains language translation pairs in the format:\n",
				"\n",
				"`May I borrow this book? ¿Puedo tomar prestado este libro?`\n",
				"\n",
				"There are a variety of languages available, but we'll use the English-Spanish dataset. For convenience, we've hosted a copy of this dataset on Google Cloud, but you can also download your own copy. After downloading the dataset, here are the steps we'll take to prepare the data:\n",
				"\n",
				"1. Add a *start* and *end* token to each sentence.\n",
				"1. Clean the sentences by removing special characters.\n",
				"1. Create a word index and reverse word index (dictionaries mapping from word &#8594; id and id &#8594; word).\n",
				"1. Pad each sentence to a maximum length."
			]
		},
		{
			"cell_type": "code",
			"execution_count": 2,
			"metadata": {},
			"outputs": [
				{
					"data": {
						"text/plain": [
							"True"
						]
					},
					"execution_count": 2,
					"metadata": {},
					"output_type": "execute_result"
				}
			],
			"source": [
				"# Download the file\n",
				"path_to_zip = tf.keras.utils.get_file(\n",
				"    fname='spa-eng.zip',\n",
				"    origin='http://storage.googleapis.com/download.tensorflow.org/data/spa-eng.zip',\n",
				"    extract=True,\n",
				")\n",
				"\n",
				"# path_to_file = os.path.dirname(path_to_zip) + '/spa-eng/spa.txt'\n",
				"path_to_file = 'spa-eng/spa.txt'\n",
				"os.path.exists(path_to_file)"
			]
		},
		{
			"cell_type": "code",
			"execution_count": 3,
			"metadata": {},
			"outputs": [],
			"source": [
				"# Converts the unicode file to ascii\n",
				"def unicode_to_ascii(s):\n",
				"    return ''.join(c for c in unicodedata.normalize('NFD', s) if unicodedata.category(c) != 'Mn')\n",
				"\n",
				"def preprocess_sentence(w):\n",
				"    w = unicode_to_ascii(w.lower().strip())\n",
				"    \n",
				"    # creating a space between a word and the punctuation following it\n",
				"    # eg: \"he is a boy.\" => \"he is a boy .\"\n",
				"    # Reference: https://stackoverflow.com/questions/3645931/python-padding-punctuation-with-white-spaces-keeping-punctuation\n",
				"    w = re.sub(r'([?.!,¿])', r' \\1 ', w)\n",
				"    w = re.sub(r'[\" \"]+', ' ', w)\n",
				"    \n",
				"    w = w.rstrip().strip()\n",
				"    \n",
				"    # adding a start and an end token to the sentence\n",
				"    # so that the model know when to start and stop predicting.\n",
				"    w = '<start> ' + w + ' <end>'\n",
				"    return w"
			]
		},
		{
			"cell_type": "code",
			"execution_count": 4,
			"metadata": {},
			"outputs": [
				{
					"name": "stdout",
					"output_type": "stream",
					"text": [
						"<start> may i borrow this book ? <end>\n",
						"b'<start> \\xc2\\xbf puedo tomar prestado este libro ? <end>'\n"
					]
				}
			],
			"source": [
				"en_sentence = u'May I borrow this book?'\n",
				"sp_sentence = u'¿Puedo tomar prestado este libro?'\n",
				"print(preprocess_sentence(en_sentence))\n",
				"print(preprocess_sentence(sp_sentence).encode('utf-8'))"
			]
		},
		{
			"cell_type": "code",
			"execution_count": 5,
			"metadata": {},
			"outputs": [],
			"source": [
				"# 1. Remove the accents\n",
				"# 2. Clean the sentences\n",
				"# 3. Return word pairs in the format: [ENGLISH, SPANISH]\n",
				"def create_dataset(path, num_examples):\n",
				"    lines = io.open(path, encoding='UTF-8').read().strip().split('\\n')\n",
				"    \n",
				"    word_pairs = [[preprocess_sentence(w) for w in l.split('\\t')] for l in lines[:num_examples]]\n",
				"    \n",
				"    return zip(*word_pairs)"
			]
		},
		{
			"cell_type": "code",
			"execution_count": 6,
			"metadata": {},
			"outputs": [
				{
					"name": "stdout",
					"output_type": "stream",
					"text": [
						"<start> if you want to sound like a native speaker , you must be willing to practice saying the same sentence over and over in the same way that banjo players practice the same phrase over and over until they can play it correctly and at the desired tempo . <end>\n",
						"<start> si quieres sonar como un hablante nativo , debes estar dispuesto a practicar diciendo la misma frase una y otra vez de la misma manera en que un musico de banjo practica el mismo fraseo una y otra vez hasta que lo puedan tocar correctamente y en el tiempo esperado . <end>\n"
					]
				}
			],
			"source": [
				"en, sp = create_dataset(path_to_file, None)\n",
				"print(en[-1])\n",
				"print(sp[-1])"
			]
		},
		{
			"cell_type": "code",
			"execution_count": 7,
			"metadata": {},
			"outputs": [],
			"source": [
				"def max_length(tensor):\n",
				"    return max(len(t) for t in tensor)"
			]
		},
		{
			"cell_type": "code",
			"execution_count": 8,
			"metadata": {},
			"outputs": [],
			"source": [
				"def tokenize(lang):\n",
				"    lang_tokenizer = tf.keras.preprocessing.text.Tokenizer(filters='')\n",
				"    lang_tokenizer.fit_on_texts(lang)\n",
				"    \n",
				"    tensor = lang_tokenizer.texts_to_sequences(lang)\n",
				"    \n",
				"    tensor = tf.keras.preprocessing.sequence.pad_sequences(tensor, padding='post')\n",
				"    \n",
				"    return tensor, lang_tokenizer"
			]
		},
		{
			"cell_type": "code",
			"execution_count": 9,
			"metadata": {},
			"outputs": [],
			"source": [
				"def load_dataset(path, num_examples=None):\n",
				"    # creating cleaned input, output pairs\n",
				"    targ_lang, inp_lang = create_dataset(path, num_examples)\n",
				"    \n",
				"    input_tensor, inp_lang_tokenizer = tokenize(inp_lang)\n",
				"    target_tensor, targ_lang_tokenizer = tokenize(targ_lang)\n",
				"    \n",
				"    return input_tensor, target_tensor, inp_lang_tokenizer, targ_lang_tokenizer"
			]
		},
		{
			"cell_type": "markdown",
			"metadata": {},
			"source": [
				"### Limit the size of the dataset to experiment faster (optional)\n",
				"\n",
				"Training on the complete dataset of >100,000 sentences will take a long time. To train faster, we can limit the size of the dataset to 30,000 sentences (of course, translation quality degrades with less data):"
			]
		},
		{
			"cell_type": "code",
			"execution_count": 10,
			"metadata": {},
			"outputs": [
				{
					"data": {
						"text/plain": [
							"(11, 16)"
						]
					},
					"execution_count": 10,
					"metadata": {},
					"output_type": "execute_result"
				}
			],
			"source": [
				"# Try experimenting with the size of that dataset\n",
				"num_examples = 30000\n",
				"input_tensor, target_tensor, inp_lang, targ_lang = load_dataset(path_to_file, num_examples)\n",
				"\n",
				"# Calculate max_length of the target tensors\n",
				"max_length_targ, max_length_inp = max_length(target_tensor), max_length(input_tensor)\n",
				"\n",
				"max_length_targ, max_length_inp"
			]
		},
		{
			"cell_type": "code",
			"execution_count": 11,
			"metadata": {},
			"outputs": [
				{
					"data": {
						"text/plain": [
							"(24000, 24000, 6000, 6000)"
						]
					},
					"execution_count": 11,
					"metadata": {},
					"output_type": "execute_result"
				}
			],
			"source": [
				"# Creating training and validation sets using an 80-20 split\n",
				"input_tensor_train, input_tensor_val, target_tensor_train, target_tensor_val = train_test_split(input_tensor, target_tensor, test_size=0.2)\n",
				"\n",
				"# Show length\n",
				"len(input_tensor_train), len(target_tensor_train), len(input_tensor_val), len(target_tensor_val)"
			]
		},
		{
			"cell_type": "code",
			"execution_count": 12,
			"metadata": {},
			"outputs": [],
			"source": [
				"def convert(lang, tensor):\n",
				"    for t in tensor:\n",
				"        if t != 0:\n",
				"            print(f'{t} ----> {lang.index_word[t]}')"
			]
		},
		{
			"cell_type": "code",
			"execution_count": 13,
			"metadata": {},
			"outputs": [
				{
					"name": "stdout",
					"output_type": "stream",
					"text": [
						"Input Language; index to word mapping\n",
						"1 ----> <start>\n",
						"1613 ----> agarra\n",
						"1850 ----> fuertemente\n",
						"3 ----> .\n",
						"2 ----> <end>\n",
						"\n",
						"Target Language; index to word mapping\n",
						"1 ----> <start>\n",
						"699 ----> hang\n",
						"42 ----> on\n",
						"3 ----> .\n",
						"2 ----> <end>\n"
					]
				}
			],
			"source": [
				"print('Input Language; index to word mapping')\n",
				"convert(inp_lang, input_tensor_train[0])\n",
				"print()\n",
				"print('Target Language; index to word mapping')\n",
				"convert(targ_lang, target_tensor_train[0])"
			]
		},
		{
			"cell_type": "markdown",
			"metadata": {},
			"source": [
				"### Create a `tf.data` dataset"
			]
		},
		{
			"cell_type": "code",
			"execution_count": 14,
			"metadata": {},
			"outputs": [],
			"source": [
				"BUFFER_SIZE = len(input_tensor_train)\n",
				"BATCH_SIZE = 64\n",
				"steps_per_epoch = len(input_tensor_train) // BATCH_SIZE\n",
				"embedding_dim = 256\n",
				"units = 1024\n",
				"units = 1024\n",
				"vocab_inp_size = len(inp_lang.word_index) + 1\n",
				"vocab_tar_size = len(targ_lang.word_index) + 1\n",
				"\n",
				"dataset = tf.data.Dataset.from_tensor_slices((input_tensor_train, target_tensor_train)).shuffle(BUFFER_SIZE)\n",
				"dataset = dataset.batch(BATCH_SIZE, drop_remainder=True)"
			]
		},
		{
			"cell_type": "code",
			"execution_count": 15,
			"metadata": {},
			"outputs": [
				{
					"data": {
						"text/plain": [
							"(TensorShape([64, 16]), TensorShape([64, 11]))"
						]
					},
					"execution_count": 15,
					"metadata": {},
					"output_type": "execute_result"
				}
			],
			"source": [
				"example_input_batch, example_target_batch = next(iter(dataset))\n",
				"example_input_batch.shape, example_target_batch.shape"
			]
		},
		{
			"cell_type": "markdown",
			"metadata": {},
			"source": [
				"## Write the encoder and decoder model\n",
				"\n",
				"Implement an encoder-decoder model with attention which you can read about in the TensorFlow [Neural Machine Translation (seq2seq) tutorial](https://github.com/tensorflow/nmt). This example uses a more recent set of APIs. This notebook implements the [attention equations](https://github.com/tensorflow/nmt#background-on-the-attention-mechanism) from the seq2seq tutorial. The following diagram shows that each input words is assigned a weight by the attention mechanism which is then used by the decoder to predict the next word in the sentence. The below picture and formulas are an example of attention mechanism from [Luong's paper](https://arxiv.org/abs/1508.04025v5).\n",
				"\n",
				"![](attention_mechanism.jpg)\n",
				"\n",
				"The input is put through an encoder model which gives us the encoder output of shape `(batch_size, max_length, hidden_size)` and the encoder hidden state of shape `(batch_size, hidden_size)`.\n",
				"\n",
				"Here are the equations that are implemented:\n",
				"\n",
				"![](attention_equation_0.jpg)\n",
				"\n",
				"![](attention_equation_1.jpg)\n",
				"\n",
				"This tutorial uses [Bahdaunau attention](https://arxiv.org/pdf/1409.0473.pdf) for the encoder. Let's decide on notation before writing the simplified form:\n",
				"\n",
				"- FC = Fully connected (dense) layer\n",
				"- EO = Encoder output\n",
				"- H = hidden state\n",
				"- X = input to the decoder\n",
				"\n",
				"And the pseudo-code:\n",
				"\n",
				"- `score = FC(tanh(FC(EO) + FC(H))`\n",
				"- `attention weights = softmax(score, axis = 1)`. Softmax by default is applied on the last axis but here we want to apply it on the *1st axis*, since the shape of score is `(batch_size, max_length, hidden_size)`. `max_length` is the length of our input. Since we are trying to assign a weight to each input, softmax should be applied on that axis.\n",
				"- `context vector = sum(attention weights * EO, axis = 1)`. Same reason as above for choosing axis as 1.\n",
				"- `embedding output` = The input to the decoder X is passed through an embedding layer.\n",
				"- `merged vector = concat(embedding output, context vector)`\n",
				"- This merged vector is then given to the GRU.\n",
				"\n",
				"The shapes of all the vectors at each step have been specified in the comments in the code:"
			]
		},
		{
			"cell_type": "code",
			"execution_count": 16,
			"metadata": {},
			"outputs": [],
			"source": [
				"class Encoder(tf.keras.Model):\n",
				"    def __init__(self, vocab_size, embedding_dim, enc_units, batch_sz):\n",
				"        super(Encoder, self).__init__()\n",
				"        self.batch_sz = batch_sz\n",
				"        self.enc_units = enc_units\n",
				"        self.embedding = tf.keras.layers.Embedding(vocab_size, embedding_dim)\n",
				"        self.gru = tf.keras.layers.GRU(\n",
				"            self.enc_units,\n",
				"            return_sequences=True,\n",
				"            return_state=True,\n",
				"            recurrent_initializer='glorot_uniform',\n",
				"        )\n",
				"        \n",
				"    def call(self, x, hidden):\n",
				"        x = self.embedding(x)\n",
				"        output, state = self.gru(x, initial_state=hidden)\n",
				"        return output, state\n",
				"    \n",
				"    def initialize_hidden_state(self):\n",
				"        return tf.zeros((self.batch_sz, self.enc_units))"
			]
		},
		{
			"cell_type": "code",
			"execution_count": 17,
			"metadata": {},
			"outputs": [
				{
					"name": "stdout",
					"output_type": "stream",
					"text": [
						"Encoder output shape: (batch_size, sequence_length, units) (64, 16, 1024)\n",
						"Encoder hidden state shape: (batch_size, units) (64, 1024)\n"
					]
				}
			],
			"source": [
				"encoder = Encoder(vocab_inp_size, embedding_dim, units, BATCH_SIZE)\n",
				"\n",
				"# sample input\n",
				"sample_hidden = encoder.initialize_hidden_state()\n",
				"sample_output, sample_hidden = encoder(example_input_batch, sample_hidden)\n",
				"print(f'Encoder output shape: (batch_size, sequence_length, units) {sample_output.shape}')\n",
				"print(f'Encoder hidden state shape: (batch_size, units) {sample_hidden.shape}')"
			]
		},
		{
			"cell_type": "code",
			"execution_count": 18,
			"metadata": {},
			"outputs": [],
			"source": [
				"class BahdanauAttention(tf.keras.Model):\n",
				"    def __init__(self, units):\n",
				"        super(BahdanauAttention, self).__init__()\n",
				"        self.W1 = tf.keras.layers.Dense(units)\n",
				"        self.W2 = tf.keras.layers.Dense(units)\n",
				"        self.V = tf.keras.layers.Dense(1)\n",
				"    \n",
				"    def call(self, query, values):\n",
				"        # hidden.shape is (batch_size, hidden_size)\n",
				"        # hidden_with_time_axis.shape is (batch_size, 1, hidden_size)\n",
				"        # we are doing this to perform addition to calculate the score\n",
				"        hidden_with_time_axis = tf.expand_dims(query, 1)\n",
				"        \n",
				"        # score.shape is (batch_size, max_length, 1)\n",
				"        # we get 1 at the last axis because we are applying score to self.V\n",
				"        score = self.V(tf.nn.tanh(self.W1(values) + self.W2(hidden_with_time_axis)))\n",
				"        \n",
				"        # attention_weights.shape is (batch_size, max_length, 1)\n",
				"        attention_weights = tf.nn.softmax(score, axis=1)\n",
				"        \n",
				"        # context_vecctor.shape after sum is (batch_size, hidden_size)\n",
				"        context_vector = attention_weights * values\n",
				"        context_vector = tf.reduce_sum(context_vector, axis=1)\n",
				"        \n",
				"        return context_vector, attention_weights"
			]
		},
		{
			"cell_type": "code",
			"execution_count": 19,
			"metadata": {},
			"outputs": [
				{
					"name": "stdout",
					"output_type": "stream",
					"text": [
						"Attention result shape: (batch_size, units) (64, 1024)\n",
						"Attention weights shape: (batch_size, sequence_length, 1) (64, 16, 1)\n"
					]
				}
			],
			"source": [
				"attention_layer = BahdanauAttention(10)\n",
				"attention_result, attention_weights = attention_layer(sample_hidden, sample_output)\n",
				"\n",
				"print(f'Attention result shape: (batch_size, units) {attention_result.shape}')\n",
				"print(f'Attention weights shape: (batch_size, sequence_length, 1) {attention_weights.shape}')"
			]
		},
		{
			"cell_type": "code",
			"execution_count": 20,
			"metadata": {},
			"outputs": [],
			"source": [
				"class Decoder(tf.keras.Model):\n",
				"    def __init__(self, vocab_size, embedding_dim, dec_units, batch_sz):\n",
				"        super(Decoder, self).__init__()\n",
				"        self.batch_sz = batch_sz\n",
				"        self.dec_units = dec_units\n",
				"        self.embedding = tf.keras.layers.Embedding(vocab_size, embedding_dim)\n",
				"        self.gru = tf.keras.layers.GRU(\n",
				"            self.dec_units,\n",
				"            return_sequences=True,\n",
				"            return_state=True,\n",
				"            recurrent_initializer='glorot_uniform',\n",
				"        )\n",
				"        self.fc = tf.keras.layers.Dense(vocab_size)\n",
				"        \n",
				"        # used for attention\n",
				"        self.attention = BahdanauAttention(self.dec_units)\n",
				"        \n",
				"    def call(self, x, hidden, enc_output):\n",
				"        # enc_output.shape is (batch_size, max_length, hidden_size)\n",
				"        context_vector, attention_weights = self.attention(hidden, enc_output)\n",
				"        \n",
				"        # x.shape after passing through embedding is (batch_size, 1, embedding_dim)\n",
				"        x = self.embedding(x)\n",
				"        \n",
				"        # x.shape after concatenation is (batch_size, 1, embedding_dim + hidden_size)\n",
				"        x = tf.concat([tf.expand_dims(context_vector, 1), x], axis=-1)\n",
				"        \n",
				"        # passing the concatenated vector to the GRU\n",
				"        output, state = self.gru(x)\n",
				"        \n",
				"        # output.shape is (batch_size * 1, hidden_size)\n",
				"        output = tf.reshape(output, (-1, output.shape[2]))\n",
				"        \n",
				"        # output.shape is (batch_size, vocab)\n",
				"        x = self.fc(output)\n",
				"        \n",
				"        return x, state, attention_weights"
			]
		},
		{
			"cell_type": "code",
			"execution_count": 21,
			"metadata": {},
			"outputs": [
				{
					"name": "stdout",
					"output_type": "stream",
					"text": [
						"Decoder output shape: (batch_size, vocab_size) (64, 5107)\n"
					]
				}
			],
			"source": [
				"decoder = Decoder(vocab_tar_size, embedding_dim, units, BATCH_SIZE)\n",
				"\n",
				"sample_decoder_output, _, _ = decoder(tf.random.uniform((64, 1)), sample_hidden, sample_output)\n",
				"\n",
				"print(f'Decoder output shape: (batch_size, vocab_size) {sample_decoder_output.shape}')"
			]
		},
		{
			"cell_type": "markdown",
			"metadata": {},
			"source": [
				"## Define the optimizer and the loss function"
			]
		},
		{
			"cell_type": "code",
			"execution_count": 22,
			"metadata": {},
			"outputs": [],
			"source": [
				"optimizer = tf.keras.optimizers.Adam()\n",
				"loss_object = tf.keras.losses.SparseCategoricalCrossentropy(\n",
				"    from_logits=True, \n",
				"    reduction='none',\n",
				")\n",
				"\n",
				"def loss_function(real, pred):\n",
				"    mask = tf.math.logical_not(tf.math.equal(real, 0))\n",
				"    _loss = loss_object(real, pred)\n",
				"    \n",
				"    mask = tf.cast(mask, dtype=_loss.dtype)\n",
				"    _loss *= mask\n",
				"    \n",
				"    return tf.reduce_mean(_loss)"
			]
		},
		{
			"cell_type": "markdown",
			"metadata": {},
			"source": [
				"## Checkpoints (Object-based saving)"
			]
		},
		{
			"cell_type": "code",
			"execution_count": 23,
			"metadata": {},
			"outputs": [],
			"source": [
				"checkpoint_dir = 'en_sp_nmt_checkpoints'\n",
				"checkpoint_prefix = f'{checkpoint_dir}/ckpt'\n",
				"checkpoint = tf.train.Checkpoint(\n",
				"    optimizer=optimizer,\n",
				"    encoder=encoder,\n",
				"    decoder=decoder,\n",
				")"
			]
		},
		{
			"cell_type": "markdown",
			"metadata": {},
			"source": [
				"## Training\n",
				"\n",
				"1. Pass the *input* through the *encoder* which return *encoder output* and the *encoder hidden state*.\n",
				"1. The encoder output, encoder hidden state and the decoder input (which is the *start token*) is passed to the decoder.\n",
				"1. The decoder returns the *predictions* and the *decoder hidden state*.\n",
				"1. The decoder hidden state is then passed back into the model and the predictions are used to calculate the loss.\n",
				"1. Use *teacher forcing* to decide the next input to the decoder.\n",
				"1. *Teacher forcing* is the technique where the *target word* is passed as the *next input* to the decoder.\n",
				"1. The final step is to calculate the gradients and apply it to the optimizer and backpropagate."
			]
		},
		{
			"cell_type": "code",
			"execution_count": 24,
			"metadata": {},
			"outputs": [],
			"source": [
				"@tf.function\n",
				"def train_step(inp, targ, enc_hidden):\n",
				"    loss = 0\n",
				"    \n",
				"    with tf.GradientTape() as tape:\n",
				"        enc_output, enc_hidden = encoder(inp, enc_hidden)\n",
				"        \n",
				"        dec_hidden = enc_hidden\n",
				"        \n",
				"        dec_input = tf.expand_dims([targ_lang.word_index['<start>']] * BATCH_SIZE, 1)\n",
				"        \n",
				"        # Teacher forcing - feeding the target as the next input\n",
				"        for t in range(1, targ.shape[1]):\n",
				"            # passing enc_output to the decoder\n",
				"            predictions, dec_hidden, _ = decoder(dec_input, dec_hidden, enc_output)\n",
				"            \n",
				"            loss += loss_function(targ[:, t], predictions)\n",
				"            \n",
				"            # using teacher forcing\n",
				"            dec_input = tf.expand_dims(targ[:, t], 1)\n",
				"        \n",
				"        batch_loss = (loss / int(targ.shape[1]))\n",
				"        \n",
				"        variables = encoder.trainable_variables + decoder.trainable_variables\n",
				"        \n",
				"        gradients = tape.gradient(loss, variables)\n",
				"        \n",
				"        optimizer.apply_gradients(zip(gradients, variables))\n",
				"        \n",
				"        return batch_loss"
			]
		},
		{
			"cell_type": "code",
			"execution_count": 25,
			"metadata": {},
			"outputs": [
				{
					"name": "stdout",
					"output_type": "stream",
					"text": [
						"Epoch 1 Batch 0 Loss 4.4878\n",
						"Epoch 1 Batch 100 Loss 2.2364\n",
						"Epoch 1 Batch 200 Loss 1.9521\n",
						"Epoch 1 Batch 300 Loss 1.6653\n",
						"Epoch 1 Loss 2.0039\n",
						"Time taken for 1 epoch 94.88148379325867 sec\n",
						"\n",
						"Epoch 2 Batch 0 Loss 1.6559\n",
						"Epoch 2 Batch 100 Loss 1.5877\n",
						"Epoch 2 Batch 200 Loss 1.4534\n",
						"Epoch 2 Batch 300 Loss 1.2217\n",
						"Epoch 2 Loss 1.3836\n",
						"Time taken for 1 epoch 87.58755493164062 sec\n",
						"\n",
						"Epoch 3 Batch 0 Loss 1.3442\n",
						"Epoch 3 Batch 100 Loss 1.1791\n",
						"Epoch 3 Batch 200 Loss 1.0533\n",
						"Epoch 3 Batch 300 Loss 0.9056\n",
						"Epoch 3 Loss 1.0440\n",
						"Time taken for 1 epoch 82.72089838981628 sec\n",
						"\n",
						"Epoch 4 Batch 0 Loss 0.9969\n",
						"Epoch 4 Batch 100 Loss 0.8615\n",
						"Epoch 4 Batch 200 Loss 0.7778\n",
						"Epoch 4 Batch 300 Loss 0.6431\n",
						"Epoch 4 Loss 0.7502\n",
						"Time taken for 1 epoch 86.3126630783081 sec\n",
						"\n",
						"Epoch 5 Batch 0 Loss 0.7124\n",
						"Epoch 5 Batch 100 Loss 0.6046\n",
						"Epoch 5 Batch 200 Loss 0.5149\n",
						"Epoch 5 Batch 300 Loss 0.4266\n",
						"Epoch 5 Loss 0.5054\n",
						"Time taken for 1 epoch 79.40640759468079 sec\n",
						"\n",
						"Epoch 6 Batch 0 Loss 0.5249\n",
						"Epoch 6 Batch 100 Loss 0.4035\n",
						"Epoch 6 Batch 200 Loss 0.3454\n",
						"Epoch 6 Batch 300 Loss 0.3199\n",
						"Epoch 6 Loss 0.3370\n",
						"Time taken for 1 epoch 84.80936336517334 sec\n",
						"\n",
						"Epoch 7 Batch 0 Loss 0.3251\n",
						"Epoch 7 Batch 100 Loss 0.2602\n",
						"Epoch 7 Batch 200 Loss 0.2352\n",
						"Epoch 7 Batch 300 Loss 0.2054\n",
						"Epoch 7 Loss 0.2268\n",
						"Time taken for 1 epoch 79.35773015022278 sec\n",
						"\n",
						"Epoch 8 Batch 0 Loss 0.2156\n",
						"Epoch 8 Batch 100 Loss 0.1875\n",
						"Epoch 8 Batch 200 Loss 0.1560\n",
						"Epoch 8 Batch 300 Loss 0.1684\n",
						"Epoch 8 Loss 0.1570\n",
						"Time taken for 1 epoch 85.73427653312683 sec\n",
						"\n",
						"Epoch 9 Batch 0 Loss 0.1476\n",
						"Epoch 9 Batch 100 Loss 0.1274\n",
						"Epoch 9 Batch 200 Loss 0.1162\n",
						"Epoch 9 Batch 300 Loss 0.1203\n",
						"Epoch 9 Loss 0.1141\n",
						"Time taken for 1 epoch 80.03906726837158 sec\n",
						"\n",
						"Epoch 10 Batch 0 Loss 0.1022\n",
						"Epoch 10 Batch 100 Loss 0.0946\n",
						"Epoch 10 Batch 200 Loss 0.0735\n",
						"Epoch 10 Batch 300 Loss 0.0907\n",
						"Epoch 10 Loss 0.0862\n",
						"Time taken for 1 epoch 85.18472361564636 sec\n",
						"\n"
					]
				}
			],
			"source": [
				"EPOCHS = 10\n",
				"\n",
				"for epoch in range(EPOCHS):\n",
				"    start = time.time()\n",
				"    \n",
				"    enc_hidden = encoder.initialize_hidden_state()\n",
				"    total_loss = 0\n",
				"    \n",
				"    for (batch, (inp, targ)) in enumerate(dataset.take(steps_per_epoch)):\n",
				"        batch_loss = train_step(inp, targ, enc_hidden)\n",
				"        total_loss += batch_loss\n",
				"        \n",
				"        if batch % 100 == 0:\n",
				"            print(f'Epoch {epoch+1} Batch {batch} Loss {batch_loss.numpy():.4f}')\n",
				"            \n",
				"    # saving (checkpoint) the model every 2 epochs\n",
				"    if (epoch + 1) % 2 == 0:\n",
				"        checkpoint.save(file_prefix=checkpoint_prefix)\n",
				"        \n",
				"    print(f'Epoch {epoch+1} Loss {total_loss/steps_per_epoch:.4f}')\n",
				"    print(f'Time taken for 1 epoch {time.time()-start} sec\\n')"
			]
		},
		{
			"cell_type": "markdown",
			"metadata": {},
			"source": [
				"## Translate\n",
				"\n",
				"- The evaluate function is similar to the training loop, excep we don't use *teacher forcing* here. The input to the decoder at each timestep is its previous predictions along with the hidden state and the encoder output.\n",
				"- Stop predicting when the model predicts the *end token*.\n",
				"- And store the *attention weights* for every timestep."
			]
		},
		{
			"cell_type": "code",
			"execution_count": 35,
			"metadata": {},
			"outputs": [],
			"source": [
				"def evaluate(sentence):\n",
				"    attention_plot = np.zeros((max_length_targ, max_length_inp))\n",
				"    \n",
				"    sentence = preprocess_sentence(sentence)\n",
				"    \n",
				"    inputs = [inp_lang.word_index[i] for i in sentence.split(' ')]\n",
				"    inputs = tf.keras.preprocessing.sequence.pad_sequences(\n",
				"        sequences=[inputs],\n",
				"        maxlen=max_length_inp,\n",
				"        padding='post',\n",
				"    )\n",
				"    \n",
				"    inputs = tf.convert_to_tensor(inputs)\n",
				"    \n",
				"    result = ''\n",
				"    \n",
				"    hidden = [tf.zeros((1, units))]\n",
				"    enc_out, enc_hidden = encoder(inputs, hidden)\n",
				"    \n",
				"    dec_hidden = enc_hidden\n",
				"    dec_input = tf.expand_dims([targ_lang.word_index['<start>']], 0)\n",
				"    \n",
				"    for t in range(max_length_targ):\n",
				"        predictions, dec_hidden, attention_weights = decoder(dec_input, dec_hidden, enc_out)\n",
				"        \n",
				"        # storing the attention weights to plot later on\n",
				"        attention_weights = tf.reshape(attention_weights, (-1, ))\n",
				"        attention_plot[t] = attention_weights.numpy()\n",
				"        \n",
				"        predicted_id = tf.argmax(predictions[0]).numpy()\n",
				"        \n",
				"        result += targ_lang.index_word[predicted_id] + ' '\n",
				"        \n",
				"        if targ_lang.index_word[predicted_id] == '<end>':\n",
				"            return result, sentence, attention_plot\n",
				"        \n",
				"        # the predicted ID is fed back into the model\n",
				"        dec_input = tf.expand_dims([predicted_id], 0)\n",
				"        \n",
				"    return result, sentence, attention_plot"
			]
		},
		{
			"cell_type": "code",
			"execution_count": 36,
			"metadata": {},
			"outputs": [],
			"source": [
				"# function for plotting the attention weights\n",
				"def plot_attention(attention, sentence, predicted_sentence):\n",
				"    fig = plt.figure(figsize=(10,10))\n",
				"    ax = fig.add_subplot(1, 1, 1)\n",
				"    ax.matshow(attention, cmap='viridis')\n",
				"    \n",
				"    fontdict = {'fontsize': 14}\n",
				"    \n",
				"    ax.set_xticklabels([''] + sentence, fontdict=fontdict, rotation=90)\n",
				"    ax.set_yticklabels([''] + predicted_sentence, fontdict=fontdict)\n",
				"    \n",
				"    plt.show()"
			]
		},
		{
			"cell_type": "code",
			"execution_count": 37,
			"metadata": {},
			"outputs": [],
			"source": [
				"def translate(sentence):\n",
				"    result, sentence, attention_plot = evaluate(sentence)\n",
				"    \n",
				"    print(f'Input: {sentence}')\n",
				"    print(f'Predicted translation: {result}')\n",
				"    \n",
				"    attention_plot = attention_plot[:len(result.split(' ')), :len(sentence.split(' '))]\n",
				"    plot_attention(attention_plot, sentence.split(' '), result.split(' '))"
			]
		},
		{
			"cell_type": "markdown",
			"metadata": {},
			"source": [
				"## Restore the lastest checkpoint and test"
			]
		},
		{
			"cell_type": "code",
			"execution_count": 29,
			"metadata": {},
			"outputs": [
				{
					"data": {
						"text/plain": [
							"<tensorflow.python.training.tracking.util.CheckpointLoadStatus at 0x1a92f1ade48>"
						]
					},
					"execution_count": 29,
					"metadata": {},
					"output_type": "execute_result"
				}
			],
			"source": [
				"# restoring the lastest checkpoint in checkpoint_dir\n",
				"checkpoint.restore(tf.train.latest_checkpoint(checkpoint_dir))"
			]
		},
		{
			"cell_type": "code",
			"execution_count": 38,
			"metadata": {},
			"outputs": [
				{
					"name": "stdout",
					"output_type": "stream",
					"text": [
						"Input: <start> hace mucho frio aqui . <end>\n",
						"Predicted translation: it's very cold here . <end> \n"
					]
				},
				{
					"data": {
						"image/png": "[encoded data removed]",
						"text/plain": [
							"<Figure size 720x720 with 1 Axes>"
						]
					},
					"metadata": {
						"needs_background": "light"
					},
					"output_type": "display_data"
				}
			],
			"source": [
				"translate(u'hace mucho frio aqui.')"
			]
		},
		{
			"cell_type": "code",
			"execution_count": 39,
			"metadata": {},
			"outputs": [
				{
					"name": "stdout",
					"output_type": "stream",
					"text": [
						"Input: <start> esta es mi vida . <end>\n",
						"Predicted translation: this is my life . <end> \n"
					]
				},
				{
					"data": {
						"image/png": "[encoded data removed]",
						"text/plain": [
							"<Figure size 720x720 with 1 Axes>"
						]
					},
					"metadata": {
						"needs_background": "light"
					},
					"output_type": "display_data"
				}
			],
			"source": [
				"translate(u'esta es mi vida.')"
			]
		},
		{
			"cell_type": "code",
			"execution_count": 40,
			"metadata": {},
			"outputs": [
				{
					"name": "stdout",
					"output_type": "stream",
					"text": [
						"Input: <start> ¿ todavia estan en casa ? <end>\n",
						"Predicted translation: are you still at home ? <end> \n"
					]
				},
				{
					"data": {
						"image/png": "[encoded data removed]",
						"text/plain": [
							"<Figure size 720x720 with 1 Axes>"
						]
					},
					"metadata": {
						"needs_background": "light"
					},
					"output_type": "display_data"
				}
			],
			"source": [
				"translate(u'¿todavia estan en casa?')"
			]
		},
		{
			"cell_type": "code",
			"execution_count": 41,
			"metadata": {},
			"outputs": [
				{
					"name": "stdout",
					"output_type": "stream",
					"text": [
						"Input: <start> trata de averiguarlo . <end>\n",
						"Predicted translation: try to figure it out . <end> \n"
					]
				},
				{
					"data": {
						"image/png": "[encoded data removed]",
						"text/plain": [
							"<Figure size 720x720 with 1 Axes>"
						]
					},
					"metadata": {
						"needs_background": "light"
					},
					"output_type": "display_data"
				}
			],
			"source": [
				"# wrong translation\n",
				"translate(u'trata de averiguarlo.')"
			]
		},
		{
			"cell_type": "markdown",
			"metadata": {},
			"source": [
				"## Next steps\n",
				"\n",
				"- [Download a different dataset](http://www.manythings.org/anki/) to experiment with translations, for example, English to German, or English to French.\n",
				"- Experiment with training on a larger dataset, or using more epochs."
			]
		}
	],
	"metadata": {
		"kernelspec": {
			"display_name": "Python 3",
			"language": "python",
			"name": "python3"
		},
		"language_info": {
			"codemirror_mode": {
				"name": "ipython",
				"version": 3
			},
			"file_extension": ".py",
			"mimetype": "text/x-python",
			"name": "python",
			"nbconvert_exporter": "python",
			"pygments_lexer": "ipython3"
		}
	},
	"nbformat": 4,
	"nbformat_minor": 2
}
