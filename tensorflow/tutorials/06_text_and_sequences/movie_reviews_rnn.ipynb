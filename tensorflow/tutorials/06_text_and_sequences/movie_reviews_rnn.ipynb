{
	"nbformat": 4,
	"nbformat_minor": 0,
	"metadata": {
		"colab": {
			"name": "movie_reviews_rnn.ipynb",
			"version": "0.3.2",
			"provenance": [],
			"collapsed_sections": []
		},
		"language_info": {
			"codemirror_mode": {
				"name": "ipython",
				"version": 3
			},
			"file_extension": ".py",
			"mimetype": "text/x-python",
			"name": "python",
			"nbconvert_exporter": "python",
			"pygments_lexer": "ipython3"
		},
		"kernelspec": {
			"display_name": "Python 3",
			"language": "python",
			"name": "python3"
		},
		"accelerator": "GPU"
	},
	"cells": [
		{
			"cell_type": "markdown",
			"metadata": {
				"colab_type": "text",
				"id": "oCpAlg0IwmWc"
			},
			"source": [
				"# [Text classification with an RNN](https://www.tensorflow.org/beta/tutorials/text/text_classification_rnn)\n",
				"\n",
				"This text classification tutorial trains a [recurrent neural network](https://developers.google.com/machine-learning/glossary/#recurrent_neural_network) on the [IMDB large movie review dataset](http://ai.stanford.edu/~amaas/data/sentiment/) for sentiment analysis."
			]
		},
		{
			"cell_type": "code",
			"metadata": {
				"colab_type": "code",
				"id": "Il6UPjDwwmWd",
				"colab": {}
			},
			"source": [
				"from __future__ import absolute_import, division, print_function, unicode_literals\n",
				"\n",
				"!pip install -q tensorflow-gpu==2.0.0-beta-1\n",
				"import tensorflow_datasets as tfds\n",
				"import tensorflow as tf\n",
				"\n",
				"import matplotlib.pyplot as plt"
			],
			"execution_count": 0,
			"outputs": []
		},
		{
			"cell_type": "markdown",
			"metadata": {
				"colab_type": "text",
				"id": "v105g6lswmWg"
			},
			"source": [
				"Import `matplotlib` and create a helper function to plot graphs:"
			]
		},
		{
			"cell_type": "code",
			"metadata": {
				"colab_type": "code",
				"id": "5DmjAY6lwmWg",
				"colab": {}
			},
			"source": [
				"def plot_graphs(history, key):\n",
				"    plt.plot(history.history[key])\n",
				"    plt.plot(history.history['val_'+key])\n",
				"    plt.xlabel('Epochs')\n",
				"    plt.ylabel(key)\n",
				"    plt.legend([key, 'val_'+key])\n",
				"    plt.show()"
			],
			"execution_count": 0,
			"outputs": []
		},
		{
			"cell_type": "markdown",
			"metadata": {
				"colab_type": "text",
				"id": "gU2s76sBwmWj"
			},
			"source": [
				"## Setup input pipeline\n",
				"\n",
				"The IMDB large movie review datasetset is a *binary classification* dataset - all the reviews have either a *positive* or *negative* sentiment.\n",
				"\n",
				"Download the dataset using [TFDS](https://www.tensorflow.org/datasets). The dataset comes with an built-in subword tokenizer."
			]
		},
		{
			"cell_type": "code",
			"metadata": {
				"colab_type": "code",
				"id": "YhznUgr2wmWj",
				"scrolled": false,
				"colab": {}
			},
			"source": [
				"dataset, info = tfds.load(\n",
				"    'imdb_reviews/subwords8k', \n",
				"    with_info=True,\n",
				"    as_supervised=True,\n",
				")\n",
				"train_dataset, test_dataset = dataset['train'], dataset['test']"
			],
			"execution_count": 0,
			"outputs": []
		},
		{
			"cell_type": "markdown",
			"metadata": {
				"colab_type": "text",
				"id": "S75w__g4wmWl"
			},
			"source": [
				"As this is a subwords tokenizer, it can be passed any string and the tokenizer will tokenize it."
			]
		},
		{
			"cell_type": "code",
			"metadata": {
				"colab_type": "code",
				"id": "sRVyk_LqzNTd",
				"colab": {}
			},
			"source": [
				"tokenizer = info.features['text'].encoder"
			],
			"execution_count": 0,
			"outputs": []
		},
		{
			"cell_type": "code",
			"metadata": {
				"colab_type": "code",
				"id": "gVfaY51bzR-w",
				"outputId": "d7f12b80-b122-4fce-95e3-0a48861e5857",
				"colab": {
					"base_uri": "https://localhost:8080/",
					"height": 34
				}
			},
			"source": [
				"print(f'Vocabulary size: {tokenizer.vocab_size}')"
			],
			"execution_count": 5,
			"outputs": [
				{
					"output_type": "stream",
					"text": [
						"Vocabulary size: 8185\n"
					],
					"name": "stdout"
				}
			]
		},
		{
			"cell_type": "code",
			"metadata": {
				"colab_type": "code",
				"id": "Ol_XlgvRzbFc",
				"outputId": "9225d79e-e1df-4d72-b6fc-26d50f1f3788",
				"colab": {
					"base_uri": "https://localhost:8080/",
					"height": 51
				}
			},
			"source": [
				"sample_string = 'TensorFlow is cool.'\n",
				"\n",
				"tokenized_string = tokenizer.encode(sample_string)\n",
				"print(f'Tokenized string is {tokenized_string}')\n",
				"\n",
				"original_string = tokenizer.decode(tokenized_string)\n",
				"print(f'The original string: {original_string}')\n",
				"\n",
				"assert original_string == sample_string"
			],
			"execution_count": 6,
			"outputs": [
				{
					"output_type": "stream",
					"text": [
						"Tokenized string is [6307, 2327, 4043, 4265, 9, 2724, 7975]\n",
						"The original string: TensorFlow is cool.\n"
					],
					"name": "stdout"
				}
			]
		},
		{
			"cell_type": "markdown",
			"metadata": {
				"colab_type": "text",
				"id": "b5R9rVFOz7Gj"
			},
			"source": [
				"The tokenizer encodes the string by breaking it into subwords if the word is not in its dictionary."
			]
		},
		{
			"cell_type": "code",
			"metadata": {
				"colab_type": "code",
				"id": "bDs1hmIf0ElC",
				"outputId": "b906e72b-1c4e-482e-b301-320cf010fc3a",
				"colab": {
					"base_uri": "https://localhost:8080/",
					"height": 136
				}
			},
			"source": [
				"for ts in tokenized_string:\n",
				"    print(f'{ts} ----> {tokenizer.decode([ts])}')"
			],
			"execution_count": 7,
			"outputs": [
				{
					"output_type": "stream",
					"text": [
						"6307 ----> Ten\n",
						"2327 ----> sor\n",
						"4043 ----> Fl\n",
						"4265 ----> ow \n",
						"9 ----> is \n",
						"2724 ----> cool\n",
						"7975 ----> .\n"
					],
					"name": "stdout"
				}
			]
		},
		{
			"cell_type": "code",
			"metadata": {
				"colab_type": "code",
				"id": "JbLzAsIa0UUc",
				"colab": {}
			},
			"source": [
				"BUFFER_SIZE = 10000\n",
				"BATCH_SIZE = 64"
			],
			"execution_count": 0,
			"outputs": []
		},
		{
			"cell_type": "code",
			"metadata": {
				"colab_type": "code",
				"id": "xobWMEuA0Ytp",
				"colab": {}
			},
			"source": [
				"train_dataset = train_dataset.shuffle(BUFFER_SIZE)\n",
				"train_dataset = train_dataset.padded_batch(BATCH_SIZE, train_dataset.output_shapes)\n",
				"\n",
				"test_dataset = test_dataset.padded_batch(BATCH_SIZE, test_dataset.output_shapes)"
			],
			"execution_count": 0,
			"outputs": []
		},
		{
			"cell_type": "markdown",
			"metadata": {
				"colab_type": "text",
				"id": "YVMMG07Y0rco"
			},
			"source": [
				"## Create the model\n",
				"\n",
				"Build a `tf.keras.Sequential` model and start with an embedding layer. An embedding layer stores one vector per word. When called, it converts the sequences of word indices to sequences of vectors. These vectors are trainable. After training (on enough data), words with similar meanings often have similar vectors.\n",
				"\n",
				"This index-lookup is much more efficient than the equivalent operation of passing a one-hot encoded vector through a `tf.keras.layers.Dense` layer.\n",
				"\n",
				"A recurrent neural network (RNN) processes sequence input by iterating through the elements. RNNs pass the outputs from one timestep to their input - and then to the next.\n",
				"\n",
				"The `tf.keras.layers.Bidirectional` wrapper can also be used with an RNN layer. This propagates the input forward and backwards through the RNN layer and then concatenates the output. This helps the RNN to learn long range dependencies."
			]
		},
		{
			"cell_type": "code",
			"metadata": {
				"colab_type": "code",
				"id": "DoQD3zvK1sEm",
				"colab": {}
			},
			"source": [
				"model = tf.keras.Sequential([\n",
				"    tf.keras.layers.Embedding(tokenizer.vocab_size, 64),\n",
				"    tf.keras.layers.Bidirectional(tf.keras.layers.LSTM(64)),\n",
				"    tf.keras.layers.Dense(64, activation='relu'),\n",
				"    tf.keras.layers.Dense(1, activation='sigmoid')\n",
				"])"
			],
			"execution_count": 0,
			"outputs": []
		},
		{
			"cell_type": "markdown",
			"metadata": {
				"colab_type": "text",
				"id": "3EGWJd2F2Hwu"
			},
			"source": [
				"Compile the Keras model to configure the training process:"
			]
		},
		{
			"cell_type": "code",
			"metadata": {
				"colab_type": "code",
				"id": "Ee7hlfNP2OHv",
				"colab": {}
			},
			"source": [
				"model.compile(\n",
				"    loss='binary_crossentropy',\n",
				"    optimizer='adam',\n",
				"    metrics=['accuracy']\n",
				")"
			],
			"execution_count": 0,
			"outputs": []
		},
		{
			"cell_type": "markdown",
			"metadata": {
				"colab_type": "text",
				"id": "K-ty_CbD2W-0"
			},
			"source": [
				"## Train the model"
			]
		},
		{
			"cell_type": "code",
			"metadata": {
				"colab_type": "code",
				"id": "bpbAVW-R2ZQd",
				"outputId": "b10ccb49-d46f-4409-a36c-fcb84aa4f27b",
				"colab": {
					"base_uri": "https://localhost:8080/",
					"height": 445
				}
			},
			"source": [
				"history = model.fit(\n",
				"    train_dataset, \n",
				"    epochs=10,\n",
				"    validation_data=test_dataset,\n",
				")"
			],
			"execution_count": 12,
			"outputs": [
				{
					"output_type": "stream",
					"text": [
						"Epoch 1/10\n"
					],
					"name": "stdout"
				},
				{
					"output_type": "stream",
					"text": [
						"WARNING: Logging before flag parsing goes to stderr.\n",
						"W0621 07:38:10.001519 139658977994624 deprecation.py:323] From /usr/local/lib/python3.6/dist-packages/tensorflow/python/ops/math_grad.py:1250: add_dispatch_support.<locals>.wrapper (from tensorflow.python.ops.array_ops) is deprecated and will be removed in a future version.\n",
						"Instructions for updating:\n",
						"Use tf.where in 2.0, which has the same broadcast rule as np.where\n"
					],
					"name": "stderr"
				},
				{
					"output_type": "stream",
					"text": [
						"391/391 [==============================] - 300s 767ms/step - loss: 0.7127 - accuracy: 0.5326 - val_loss: 0.0000e+00 - val_accuracy: 0.0000e+00\n",
						"Epoch 2/10\n",
						"391/391 [==============================] - 126s 321ms/step - loss: 0.5574 - accuracy: 0.7245 - val_loss: 0.5380 - val_accuracy: 0.7350\n",
						"Epoch 3/10\n",
						"391/391 [==============================] - 104s 266ms/step - loss: 0.3955 - accuracy: 0.8365 - val_loss: 0.4725 - val_accuracy: 0.8119\n",
						"Epoch 4/10\n",
						"391/391 [==============================] - 90s 231ms/step - loss: 0.3157 - accuracy: 0.8765 - val_loss: 0.5973 - val_accuracy: 0.7844\n",
						"Epoch 5/10\n",
						"391/391 [==============================] - 88s 225ms/step - loss: 0.2659 - accuracy: 0.9002 - val_loss: 0.4401 - val_accuracy: 0.8408\n",
						"Epoch 6/10\n",
						"391/391 [==============================] - 87s 221ms/step - loss: 0.2147 - accuracy: 0.9204 - val_loss: 0.4404 - val_accuracy: 0.8371\n",
						"Epoch 7/10\n",
						"391/391 [==============================] - 86s 220ms/step - loss: 0.1803 - accuracy: 0.9346 - val_loss: 0.4835 - val_accuracy: 0.8228\n",
						"Epoch 8/10\n",
						"391/391 [==============================] - 82s 209ms/step - loss: 0.1582 - accuracy: 0.9436 - val_loss: 0.5633 - val_accuracy: 0.8252\n",
						"Epoch 9/10\n",
						"391/391 [==============================] - 84s 215ms/step - loss: 0.1237 - accuracy: 0.9567 - val_loss: 0.5575 - val_accuracy: 0.8292\n",
						"Epoch 10/10\n",
						"391/391 [==============================] - 82s 209ms/step - loss: 0.0949 - accuracy: 0.9685 - val_loss: 0.6328 - val_accuracy: 0.8130\n"
					],
					"name": "stdout"
				}
			]
		},
		{
			"cell_type": "code",
			"metadata": {
				"colab_type": "code",
				"id": "CXAv-IBa9aYt",
				"outputId": "27ef77e6-ff74-4b1e-9bc7-9da300fd8772",
				"colab": {
					"base_uri": "https://localhost:8080/",
					"height": 51
				}
			},
			"source": [
				"test_loss, test_acc = model.evaluate(test_dataset)\n",
				"\n",
				"print(f'Test Loss: {test_loss}')\n",
				"print(f'Test Accuracy: {test_acc}')"
			],
			"execution_count": 13,
			"outputs": [
				{
					"output_type": "stream",
					"text": [
						"    391/Unknown - 25s 64ms/step - loss: 0.6328 - accuracy: 0.8130Test Loss: 0.6327809540512007\n",
						"Test Accuracy: 0.813040018081665\n"
					],
					"name": "stdout"
				}
			]
		},
		{
			"cell_type": "markdown",
			"metadata": {
				"colab_type": "text",
				"id": "7OU9kFrP9oMd"
			},
			"source": [
				"The above model does not mask the padding applied to the sequences. This can lead to skewness if we train on padded sequences and test on un-padded sequences. Ideally the model would learn to ignore the padding, but as you can see below it does have a small effect on the output.\n",
				"\n",
				"If the prediction is >= 0.5, it is positive else it is negative."
			]
		},
		{
			"cell_type": "code",
			"metadata": {
				"colab_type": "code",
				"id": "dcycR8IH-Gkc",
				"colab": {}
			},
			"source": [
				"def pad_to_size(vec, size):\n",
				"    zeros = [0] * (size - len(vec))\n",
				"    vec.extend(zeros)\n",
				"    return vec"
			],
			"execution_count": 0,
			"outputs": []
		},
		{
			"cell_type": "code",
			"metadata": {
				"colab_type": "code",
				"id": "5wQB-NcQ-Op7",
				"colab": {}
			},
			"source": [
				"def sample_predict(sentence, pad):\n",
				"    tokenized_sample_pred_text = tokenizer.encode(sample_pred_text)\n",
				"    \n",
				"    if pad:\n",
				"        tokenized_sample_pred_text = pad_to_size(tokenized_sample_pred_text, 64)\n",
				"    \n",
				"    predictions = model.predict(tf.expand_dims(tokenized_sample_pred_text, 0))\n",
				"    \n",
				"    return (predictions)"
			],
			"execution_count": 0,
			"outputs": []
		},
		{
			"cell_type": "code",
			"metadata": {
				"colab_type": "code",
				"id": "9lbiR-B0-smS",
				"outputId": "7174dc9c-9dcb-4880-b5bf-d2e9a5a6bbb1",
				"colab": {
					"base_uri": "https://localhost:8080/",
					"height": 283
				}
			},
			"source": [
				"plot_graphs(history, 'accuracy')"
			],
			"execution_count": 16,
			"outputs": [
				{
					"output_type": "display_data",
					"data": {
						"image/png": "[encoded data removed]",
						"text/plain": [
							"<Figure size 432x288 with 1 Axes>"
						]
					},
					"metadata": {
						"tags": []
					}
				}
			]
		},
		{
			"cell_type": "code",
			"metadata": {
				"colab_type": "code",
				"id": "U--49LeT_BqY",
				"outputId": "55bcc5e0-b255-4f70-dffb-82fb2bfa5b7f",
				"scrolled": true,
				"colab": {
					"base_uri": "https://localhost:8080/",
					"height": 283
				}
			},
			"source": [
				"plot_graphs(history, 'loss')"
			],
			"execution_count": 17,
			"outputs": [
				{
					"output_type": "display_data",
					"data": {
						"image/png": "[encoded data removed]",
						"text/plain": [
							"<Figure size 432x288 with 1 Axes>"
						]
					},
					"metadata": {
						"tags": []
					}
				}
			]
		},
		{
			"cell_type": "markdown",
			"metadata": {
				"id": "HH8qkKNFxyoV",
				"colab_type": "text"
			},
			"source": [
				"## Stack two or more LSTM layers\n",
				"\n",
				"Keras recurrent layers have two available modes that are controlled by the `return_sequences` constructor argument:\n",
				"\n",
				"- Return either the full sequences of successive outputs for each timestep (a 3D tensor of shape `(batch_size, timesteps, output_features)`).\n",
				"- Return only the last output for each input sequence (a 2D tensor of shape `(batch_size, output_features)`)."
			]
		},
		{
			"cell_type": "code",
			"metadata": {
				"id": "rtVSkIytxyoW",
				"colab_type": "code",
				"colab": {}
			},
			"source": [
				"model = tf.keras.Sequential([\n",
				"    tf.keras.layers.Embedding(tokenizer.vocab_size, 64),\n",
				"    tf.keras.layers.Bidirectional(tf.keras.layers.LSTM(\n",
				"        64, return_sequences=True)),\n",
				"    tf.keras.layers.Bidirectional(tf.keras.layers.LSTM(32)),\n",
				"    tf.keras.layers.Dense(64, activation='relu'),\n",
				"    tf.keras.layers.Dense(1, activation='sigmoid')\n",
				"])"
			],
			"execution_count": 0,
			"outputs": []
		},
		{
			"cell_type": "code",
			"metadata": {
				"id": "8x3fUpw9xyoX",
				"colab_type": "code",
				"colab": {}
			},
			"source": [
				"model.compile(\n",
				"    loss='binary_crossentropy',\n",
				"    optimizer='adam',\n",
				"    metrics=['accuracy'],\n",
				")"
			],
			"execution_count": 0,
			"outputs": []
		},
		{
			"cell_type": "code",
			"metadata": {
				"id": "jc88_FELxyoZ",
				"colab_type": "code",
				"colab": {
					"base_uri": "https://localhost:8080/",
					"height": 700
				},
				"outputId": "dd7847eb-30f6-40d5-a404-f5d611e6f645"
			},
			"source": [
				"history = model.fit(\n",
				"    train_dataset, \n",
				"    epochs=10,\n",
				"    validation_data=test_dataset,\n",
				")"
			],
			"execution_count": 15,
			"outputs": [
				{
					"output_type": "stream",
					"text": [
						"391/391 [==============================] - 517s 1s/step - loss: 0.5948 - accuracy: 0.6642 - val_loss: 0.0000e+00 - val_accuracy: 0.0000e+00\n",
						"Epoch 2/10\n",
						"391/391 [==============================] - 218s 558ms/step - loss: 0.4107 - accuracy: 0.8235 - val_loss: 0.5001 - val_accuracy: 0.7808\n",
						"Epoch 3/10\n",
						"391/391 [==============================] - 170s 435ms/step - loss: 0.3265 - accuracy: 0.8699 - val_loss: 0.3932 - val_accuracy: 0.8434\n",
						"Epoch 4/10\n",
						"391/391 [==============================] - 152s 389ms/step - loss: 0.2363 - accuracy: 0.9100 - val_loss: 0.4158 - val_accuracy: 0.8408\n",
						"Epoch 5/10\n",
						"391/391 [==============================] - 154s 393ms/step - loss: 0.1832 - accuracy: 0.9352 - val_loss: 0.4570 - val_accuracy: 0.8117\n",
						"Epoch 6/10\n",
						"391/391 [==============================] - 141s 361ms/step - loss: 0.2225 - accuracy: 0.9137 - val_loss: 0.5450 - val_accuracy: 0.7348\n",
						"Epoch 7/10\n",
						"391/391 [==============================] - 141s 361ms/step - loss: 0.4198 - accuracy: 0.8166 - val_loss: 0.5152 - val_accuracy: 0.7590\n",
						"Epoch 8/10\n",
						"391/391 [==============================] - 142s 363ms/step - loss: 0.3113 - accuracy: 0.8716 - val_loss: 0.3754 - val_accuracy: 0.8523\n",
						"Epoch 9/10\n",
						"391/391 [==============================] - 136s 348ms/step - loss: 0.1610 - accuracy: 0.9409 - val_loss: 0.4025 - val_accuracy: 0.8414\n",
						"Epoch 10/10\n",
						"391/391 [==============================] - 136s 349ms/step - loss: 0.1171 - accuracy: 0.9594 - val_loss: 0.4566 - val_accuracy: 0.8443\n",
						"Epoch 1/10\n",
						"391/391 [==============================] - 135s 346ms/step - loss: 0.0842 - accuracy: 0.9724 - val_loss: 0.0000e+00 - val_accuracy: 0.0000e+00\n",
						"Epoch 2/10\n",
						"391/391 [==============================] - 128s 326ms/step - loss: 0.0591 - accuracy: 0.9814 - val_loss: 0.6232 - val_accuracy: 0.8492\n",
						"Epoch 3/10\n",
						"391/391 [==============================] - 133s 340ms/step - loss: 0.0493 - accuracy: 0.9849 - val_loss: 0.6506 - val_accuracy: 0.8395\n",
						"Epoch 4/10\n",
						"391/391 [==============================] - 128s 327ms/step - loss: 0.0386 - accuracy: 0.9881 - val_loss: 0.6179 - val_accuracy: 0.8452\n",
						"Epoch 5/10\n",
						"391/391 [==============================] - 132s 338ms/step - loss: 0.0471 - accuracy: 0.9839 - val_loss: 0.6258 - val_accuracy: 0.8436\n",
						"Epoch 6/10\n",
						"391/391 [==============================] - 130s 332ms/step - loss: 0.0407 - accuracy: 0.9865 - val_loss: 0.6852 - val_accuracy: 0.8456\n",
						"Epoch 7/10\n",
						"391/391 [==============================] - 128s 328ms/step - loss: 0.0301 - accuracy: 0.9904 - val_loss: 0.7382 - val_accuracy: 0.8371\n",
						"Epoch 8/10\n",
						"391/391 [==============================] - 131s 336ms/step - loss: 0.0200 - accuracy: 0.9947 - val_loss: 0.7706 - val_accuracy: 0.8358\n",
						"Epoch 9/10\n",
						"391/391 [==============================] - 133s 339ms/step - loss: 0.0231 - accuracy: 0.9928 - val_loss: 0.7416 - val_accuracy: 0.8424\n",
						"Epoch 10/10\n",
						"391/391 [==============================] - 130s 332ms/step - loss: 0.0201 - accuracy: 0.9946 - val_loss: 0.7639 - val_accuracy: 0.8330\n"
					],
					"name": "stdout"
				}
			]
		},
		{
			"cell_type": "code",
			"metadata": {
				"id": "Pu8wEVLNxyob",
				"colab_type": "code",
				"colab": {
					"base_uri": "https://localhost:8080/",
					"height": 34
				},
				"outputId": "3710d593-a71f-4def-e185-ae64cf3950bb"
			},
			"source": [
				"test_loss, test_acc = model.evaluate(test_dataset)"
			],
			"execution_count": 16,
			"outputs": [
				{
					"output_type": "stream",
					"text": [
						"    391/Unknown - 40s 102ms/step - loss: 0.7639 - accuracy: 0.8330"
					],
					"name": "stdout"
				}
			]
		},
		{
			"cell_type": "code",
			"metadata": {
				"id": "92JcVyBtxyod",
				"colab_type": "code",
				"colab": {
					"base_uri": "https://localhost:8080/",
					"height": 51
				},
				"outputId": "cde94485-9c04-41f3-dad6-accd85ef3825"
			},
			"source": [
				"print(f'Test Loss: {test_loss}')\n",
				"print(f'Test Accuracy: {test_acc}')"
			],
			"execution_count": 17,
			"outputs": [
				{
					"output_type": "stream",
					"text": [
						"Test Loss: 0.7639284576753826\n",
						"Test Accuracy: 0.8330399990081787\n"
					],
					"name": "stdout"
				}
			]
		},
		{
			"cell_type": "code",
			"metadata": {
				"id": "QLiHNveexyof",
				"colab_type": "code",
				"colab": {
					"base_uri": "https://localhost:8080/",
					"height": 34
				},
				"outputId": "b639728a-fc01-4d18-ae86-4b1dd0793d7e"
			},
			"source": [
				"# predict on a sample text without padding.\n",
				"\n",
				"sample_pred_text = ('The movie was not good. The animation and the graphics were terrible. I would not recommend this movie.')\n",
				"\n",
				"predictions = sample_predict(sample_pred_text, pad=False)\n",
				"print(predictions)"
			],
			"execution_count": 19,
			"outputs": [
				{
					"output_type": "stream",
					"text": [
						"[[0.00030705]]\n"
					],
					"name": "stdout"
				}
			]
		},
		{
			"cell_type": "code",
			"metadata": {
				"id": "UzrHEK4Jxyoh",
				"colab_type": "code",
				"colab": {
					"base_uri": "https://localhost:8080/",
					"height": 34
				},
				"outputId": "f4e2a9d3-092d-453e-a831-de876f6f1d83"
			},
			"source": [
				"# predict on a sample text with padding\n",
				"\n",
				"sample_pred_text = ('The movie was not good. The animation and the graphics were terrible. I would not recommend this movie.')\n",
				"\n",
				"predictions = sample_predict(sample_pred_text, pad=True)\n",
				"print(predictions)"
			],
			"execution_count": 20,
			"outputs": [
				{
					"output_type": "stream",
					"text": [
						"[[0.00070012]]\n"
					],
					"name": "stdout"
				}
			]
		},
		{
			"cell_type": "code",
			"metadata": {
				"id": "39f8pmUSxyol",
				"colab_type": "code",
				"colab": {
					"base_uri": "https://localhost:8080/",
					"height": 283
				},
				"outputId": "f71c140e-2991-4f31-e594-126838d3b19d"
			},
			"source": [
				"plot_graphs(history, 'accuracy')"
			],
			"execution_count": 21,
			"outputs": [
				{
					"output_type": "display_data",
					"data": {
						"image/png": "[encoded data removed]",
						"text/plain": [
							"<Figure size 432x288 with 1 Axes>"
						]
					},
					"metadata": {
						"tags": []
					}
				}
			]
		},
		{
			"cell_type": "code",
			"metadata": {
				"id": "OI3iVGl4xyop",
				"colab_type": "code",
				"colab": {
					"base_uri": "https://localhost:8080/",
					"height": 283
				},
				"outputId": "340bf3cc-01a1-4dd1-cdc2-75814c2c4c0b"
			},
			"source": [
				"plot_graphs(history, 'loss')"
			],
			"execution_count": 22,
			"outputs": [
				{
					"output_type": "display_data",
					"data": {
						"image/png": "[encoded data removed]",
						"text/plain": [
							"<Figure size 432x288 with 1 Axes>"
						]
					},
					"metadata": {
						"tags": []
					}
				}
			]
		},
		{
			"cell_type": "markdown",
			"metadata": {
				"id": "uEe0NuwJxyos",
				"colab_type": "text"
			},
			"source": [
				"Check out other existing recurrent layers such as [GRU layers](https://www.tensorflow.org/api_docs/python/tf/keras/layers/GRU)."
			]
		}
	]
}
